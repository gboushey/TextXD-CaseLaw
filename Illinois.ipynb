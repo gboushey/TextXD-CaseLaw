{
 "cells": [
  {
   "cell_type": "markdown",
   "metadata": {},
   "source": [
    "## 1. Importing Libraries and Vocabulary"
   ]
  },
  {
   "cell_type": "code",
   "execution_count": 1,
   "metadata": {
    "collapsed": true
   },
   "outputs": [],
   "source": [
    "import json\n",
    "import gensim\n",
    "from gensim.parsing.preprocessing import remove_stopwords\n",
    "from gensim.parsing.preprocessing import strip_non_alphanum\n",
    "from nltk import word_tokenize\n",
    "import nltk\n",
    "import numpy as np"
   ]
  },
  {
   "cell_type": "code",
   "execution_count": 2,
   "metadata": {
    "collapsed": true
   },
   "outputs": [],
   "source": [
    "# you only need to do this once!\n",
    "# for this tutorial, I downloaded \"popular\", though I don't know if I could get away with something smaller\n",
    "#import nltk\n",
    "#nltk.download()"
   ]
  },
  {
   "cell_type": "markdown",
   "metadata": {},
   "source": [
    "## 2. Downloading Data\n",
    "\n",
    "The caselaw download is available at https://case.law\n",
    "\n",
    "Caselaw proves \"all official, book-published United States case law — every volume designated as an official report of decisions by a court within the United States.\" You might want to spend some time on the site getting more familar with the data and thinking how you might want to analyze it. \n",
    "\n",
    "Data is available as an API and as a bulk JSON or XML formatted download. Because we will be working with large numbers of records, we'll use the bulk download. Public downloads are avialable for Arkansas, Illinios, and New Mexico. This workshop will use the JSON format. \n",
    "\n",
    "https://case.law/bulk/download/\n",
    "\n",
    "To get the JSON formatted data, download the TEXT version (rather than the XML version). To extract the data, you'll need to first unzip the download file \"Illinois-20190416-text.zip\" (the exact name of this file contains a date stamp, yours may be different). The unzipped file will contain a \"data\" folder that contains a \"data.json.xz\" file, which is another compressed file. You'll need to unpack this file - one way is to use the xz utility. \n",
    "\n",
    "%: xz -d data.jsonl.xz\n",
    "\n",
    "You can work with it using the json library in python. For this workshop, I renamed it illinois_data.json1 and put it in a folder named caselaw_data, since I plan to work with data from other states as it becomes available. "
   ]
  },
  {
   "cell_type": "markdown",
   "metadata": {},
   "source": [
    "## 3. Importing Data\n",
    "\n",
    "In the next step, we'll read the data into a list using the json library. One thing to keep in mind here is that the file is very large and will likely overwhelm your laptop. You may eventually want to move to a cluster to process larger amounts of data. For now, let's limit the number of rows to 1000 to get the code up and running. We can increase it later. Keep in mind, the data may be chronologically ordered, so the first 1000 is not a random sampling of this data!"
   ]
  },
  {
   "cell_type": "code",
   "execution_count": 3,
   "metadata": {
    "collapsed": true
   },
   "outputs": [],
   "source": [
    "max_records = 1000\n",
    "\n",
    "data = []\n",
    "with open('caselaw_data/illinois_data.jsonl') as f:\n",
    "    for i, line in enumerate(f):\n",
    "        data.append(json.loads(line))\n",
    "        #if i % 1000 == 0:\n",
    "        #    print(i, \"processed\")\n",
    "        # set max of 10,000 rows for now, increase or remove this to get the entire data set\n",
    "        if i > max_records:\n",
    "            break"
   ]
  },
  {
   "cell_type": "markdown",
   "metadata": {},
   "source": [
    "The approach to parsing a \"jsonl\" differs slightly from parsing a single JSON document - in the jsonl format, each row containes a line object representing a JSON document. Here's the first one..."
   ]
  },
  {
   "cell_type": "code",
   "execution_count": 4,
   "metadata": {},
   "outputs": [
    {
     "data": {
      "text/plain": [
       "{'casebody': {'data': {'attorneys': ['Michael Ratliff-El, of Pontiac, appellant pro se.',\n",
       "    'Lisa Madigan, Attorney General, of Chicago (Joel D. Bertocchi, Solicitor General, and Richard S. Huszagh, Assistant Attorney General, of counsel), for appellee.'],\n",
       "   'head_matter': 'MICHAEL RATLIFF-EL, Plaintiff-Appellant, v. KENNETH R. BRILEY, Defendant-Appellee.\\nThird District\\nNo. 3—01—0727\\nOpinion filed May 2, 2003.\\nMichael Ratliff-El, of Pontiac, appellant pro se.\\nLisa Madigan, Attorney General, of Chicago (Joel D. Bertocchi, Solicitor General, and Richard S. Huszagh, Assistant Attorney General, of counsel), for appellee.',\n",
       "   'judges': [],\n",
       "   'opinions': [{'author': 'PRESIDING JUSTICE McDADE',\n",
       "     'text': 'PRESIDING JUSTICE McDADE\\ndelivered the opinion of the court:\\nMichael Ratliff-El filed a complaint for mandamus relief (735 ILCS 5/14 — 101 et seq. (West 2000)) naming Kenneth R. Briley, warden of the Stateville Correctional Center, as the defendant. The trial court granted the defendant’s motion to dismiss under section 2 — 615 of the Code of Civil Procedure (735 ILCS 5/2 — 615 (West 2000)). On appeal, Ratliff-El argues that the trial court erred by dismissing his complaint because it stated a cause of action for mandamus relief. We affirm.\\nBACKGROUND\\nRatliff-El is a prisoner at Stateville. In his complaint, Ratliff-El contended that the defendant had a clear duty to follow the Illinois Administrative Procedure Act (Act) (5 ILCS 100/1 — 1 et seq. (West 2000)) during adjustment committee and grievance proceedings at Stateville. As a result of such proceedings, Ratliff-El had been disciplined with revocation of good-time credits. Ratliff-El submitted that he was entitled to mandamus relief because the defendant had failed to follow Act procedures. He also alleged that the defendant’s failure to follow Act procedures violated his “rights.”\\nThe defendant filed a section 2 — 615 motion to dismiss Ratliff-El’s mandamus complaint for failure to state a cause of action. In his motion to dismiss, the defendant argued that the Act does not apply to adjustment committee and grievance proceedings conducted by the Department of Corrections (DOC). The trial court granted the defendant’s motion to dismiss and Ratliff-El appealed.\\nANALYSIS\\nMotion to Dismiss Mandamus Action\\nA. DOC Duty to Follow Act Procedures\\nRatliff-El argues that a state agency must follow Act procedures in “contested cases.” He reasons that because the DOC is a state agency, and adjustment committee and grievance proceedings meet the statutory definition of “contested cases,” the defendant has a clear duty to follow Act procedures in DOC adjustment committee and grievance proceedings. He contends that the trial court erred in granting the defendant’s motion to dismiss his mandamus cause of action.\\nThe defendant asserts that the Act contains a “grandfathering” clause (5 ILCS 100/1 — 5(a) (West 2000)) which exempts a state agency from using Act procedures when the agency had adjudicatory hearing rules in place on July 1, 1977. The defendant contends that the DOC had such adjudicatory hearing rules in place prior to July 1, 1977. The defendant submits that because the Act does not apply to DOC adjustment committee and grievance proceedings, the defendant has no duty to follow Act procedures. The defendant concludes, therefore, that Ratliff-El did not state a cause of action for mandamus relief. We agree with the defendant.\\nA section 2 — 615 motion to dismiss attacks the legal sufficiency of a complaint and presents the issue of whether the complaint states a cause of action upon which relief can be granted. 735 ILCS 5/2 — 615 (West 2000); Weiss v. Waterhouse Securities, Inc., 335 Ill. App. 3d 875, 781 N.E.2d 1105 (2002). The standard of review for granting a section 2 — 615 motion to dismiss is de novo. Krilich v. American National Bank & Trust Co. of Chicago, 334 Ill. App. 3d 563, 778 N.E.2d 1153 (2002).\\nA writ of mandamus is an extraordinary remedy that may be used only to compel a public official to perform a nondiscretionary ministerial duty. Caruth v. Quinley, 333 Ill. App. 3d 94, 775 N.E.2d 224 (2002). A complaint seeking a writ of mandamus must allege facts that establish (1) a clear right to the relief requested; (2) a clear duty of the defendant to act; and (3) the clear authority of the defendant to comply with the writ. Southern & Central Illinois Laborers’ District Council v. Illinois Health Facilities Planning Board, 331 Ill. App. 3d 1112, 772 N.E.2d 980 (2002).\\nSection 1 — 5(a) of the Act states as follows:\\n“[The Act] applies to every agency as defined in [this act]. Beginning January 1, 1978, in case of conflict between the provisions of [the Act] and the Act creating or conferring power on an agency, [this act] shall control. If, however, an agency *** has existing procedures on July 1, 1977, specifically for contested cases ***, those existing provisions control, except that this exception respecting contested cases *** does not apply if the Act creating or conferring power on the agency adopts by express reference the provisions of [this act]. Where the Act creating or conferring power on an agency establishes administrative procedures not covered by [this act], those procedures shall remain in effect.” 5 ILCS 100/1— 5(a) (West 2000).\\nIt is uncontested that (1) the DOC is an “agency,” and (2) adjustment committee and grievance proceedings are “contested cases,” as defined by the Act. See 5 ILCS 100/1 — 20, 1 — 30 (West 2000). The DOC had procedures in place on July 1, 1977, specifically for “contested cases.” See, e.g., Adm. Reg., Department of Corrections § 804, at 2 (eff. June 18, 1976) (concerning adjustment committee hearing procedures). These DOC procedures continue to be in place under the Illinois Administrative Code. See 20 111. Adm. Code § 504.80 (2003).\\nThe Unified Code of Corrections (Code) (730 ILCS 5/1 — 1—1 et seq. (West 2000)) is the Act that confers power on the DOC. 730 ILCS 5/3 — 2—2 (West 2000). The Code has not adopted the provisions of the Act by express reference. Furthermore, the Code established administrative procedures for the DOC, not covered by the Act, before July 1, 1977. See, e.g., Pub. Act 77 — 2097, eff. January 1, 1973 (creating, inter alia, disciplinary and grievance procedures). These procedures now are under sections 3 — 8—7 and 3 — 8—8 of the Code. 730 ILCS 5/3— 8 — 7, 3 — 8—8 (West 2000).\\nUnder section 1 — 5(a) of the Act, DOC adjustment committee and grievance procedures are not controlled by the Act. Because the defendant did not have a duty to follow Act procedures, Ratliff-El’s complaint did not state a cause of action for mandamus relief.\\nB. Due Process\\nRatliff-El contends that he is entitled to mandamus relief because the defendant violated his due process rights by failing to follow Act procedures.\\nMandamus is an appropriate remedy to compel the DOC to conduct disciplinary hearings consistent with due process. Thompson v. Lane, 194 Ill. App. 3d 855, 551 N.E.2d 731 (1990).\\nIn this case, we determined that the DOC does not have a duty to conduct disciplinary hearings under Act procedures. The defendant did not violate the plaintiffs due process rights by failing to follow Act procedures.\\nRatliff-El was not entitled to mandamus relief based on either (1) the defendant’s failure to follow Act procedures or (2) a violation of his due process rights. Therefore, the trial court did not err as a matter of law by granting the defendant’s section 2 — 615 motion to dismiss.\\nCONCLUSION\\nFor the foregoing reasons, we affirm the judgment of the Will County circuit court granting the defendant’s motion to dismiss Ratliff-El’s mandamus action.\\nAffirmed.\\nSCHMIDT and LYTTON, JJ., concur.',\n",
       "     'type': 'majority'}],\n",
       "   'parties': ['MICHAEL RATLIFF-EL, Plaintiff-Appellant, v. KENNETH R. BRILEY, Defendant-Appellee.']},\n",
       "  'status': 'ok'},\n",
       " 'citations': [{'cite': '338 Ill. App. 3d 1070', 'type': 'official'}],\n",
       " 'court': {'id': 8837,\n",
       "  'jurisdiction_url': None,\n",
       "  'name': 'Illinois Appellate Court',\n",
       "  'name_abbreviation': 'Ill. App. Ct.',\n",
       "  'slug': 'ill-app-ct'},\n",
       " 'decision_date': '2003-05-02',\n",
       " 'docket_number': 'No. 3-01-0727',\n",
       " 'first_page': '1070',\n",
       " 'id': 25332,\n",
       " 'jurisdiction': {'id': 29,\n",
       "  'name': 'Ill.',\n",
       "  'name_long': 'Illinois',\n",
       "  'slug': 'ill',\n",
       "  'whitelisted': True},\n",
       " 'last_page': '1074',\n",
       " 'name': 'MICHAEL RATLIFF-EL, Plaintiff-Appellant, v. KENNETH R. BRILEY, Defendant-Appellee',\n",
       " 'name_abbreviation': 'Ratliff-El v. Briley',\n",
       " 'reporter': {'full_name': 'Illinois Appellate Court Reports, Third Series'},\n",
       " 'volume': {'volume_number': '338'}}"
      ]
     },
     "execution_count": 4,
     "metadata": {},
     "output_type": "execute_result"
    }
   ],
   "source": [
    "data[0]"
   ]
  },
  {
   "cell_type": "markdown",
   "metadata": {},
   "source": [
    "The JSON libary in python stores each document as a dictionary object type"
   ]
  },
  {
   "cell_type": "code",
   "execution_count": 5,
   "metadata": {},
   "outputs": [
    {
     "data": {
      "text/plain": [
       "dict"
      ]
     },
     "execution_count": 5,
     "metadata": {},
     "output_type": "execute_result"
    }
   ],
   "source": [
    "type(data[0])"
   ]
  },
  {
   "cell_type": "markdown",
   "metadata": {},
   "source": [
    "## 4. Extracting and Cleaning Data\n",
    "\n",
    "For this workshop, we'll work only with the text of the court decision. If you're interested in other fields, you can expand the loop below to extract other elements of the JSON document.\n",
    "\n",
    "The exact strategy you employ to clean data can be very dependent on the type of analysis you want to do. This workshop will cover a few common strategies:\n",
    "\n",
    "* removing non alphanumeric characters\n",
    "* removing common stop words\n",
    "* removing very short or long words\n",
    "* removing purely numerical data\n",
    "* removing words that are not in a particular corpus (such as the oxford english dictionary)\n",
    "\n",
    "Again, these are common techniques, but depending on your study and data, they may not be necessary or even advisable. The strategy you take will emerge from your data and the type of analysis you plan to do.\n"
   ]
  },
  {
   "cell_type": "markdown",
   "metadata": {},
   "source": [
    "### Removing non alphanumeric characters\n",
    "\n",
    "This loop uses the gemsin library to strip non alphanumeric characters. It also collapses multiple spaces into a single space."
   ]
  },
  {
   "cell_type": "code",
   "execution_count": 6,
   "metadata": {
    "collapsed": true
   },
   "outputs": [],
   "source": [
    "tokenized_sentences = []\n",
    "        \n",
    "opinion_texts = []\n",
    "for i in range(len(data)):\n",
    "    if data[i]['casebody']['data']['opinions']:\n",
    "        text = data[i]['casebody']['data']['opinions'][0]['text'].lower()\n",
    "        text = strip_non_alphanum(text)\n",
    "        opinion_texts.append(' '.join(text.split()))\n",
    "       "
   ]
  },
  {
   "cell_type": "markdown",
   "metadata": {},
   "source": [
    "Here's the output from the first record. Take a look at this as compared to the text from the raw JSON file. Non alphanumeric characters are gone, but you can still read the text and understand what it means. However, you may already be able to see how cleaning data can result in loss of precision.\n",
    "\n",
    "As an exercise, take a look at the original document and consider if there are any terms you'd be interested in preserving that may be lost through the data transformation here. "
   ]
  },
  {
   "cell_type": "code",
   "execution_count": 7,
   "metadata": {},
   "outputs": [
    {
     "data": {
      "text/plain": [
       "'presiding justice mcdade delivered the opinion of the court michael ratliff el filed a complaint for mandamus relief 735 ilcs 5 14 101 et seq west 2000 naming kenneth r briley warden of the stateville correctional center as the defendant the trial court granted the defendant s motion to dismiss under section 2 615 of the code of civil procedure 735 ilcs 5 2 615 west 2000 on appeal ratliff el argues that the trial court erred by dismissing his complaint because it stated a cause of action for mandamus relief we affirm background ratliff el is a prisoner at stateville in his complaint ratliff el contended that the defendant had a clear duty to follow the illinois administrative procedure act act 5 ilcs 100 1 1 et seq west 2000 during adjustment committee and grievance proceedings at stateville as a result of such proceedings ratliff el had been disciplined with revocation of good time credits ratliff el submitted that he was entitled to mandamus relief because the defendant had failed to follow act procedures he also alleged that the defendant s failure to follow act procedures violated his rights the defendant filed a section 2 615 motion to dismiss ratliff el s mandamus complaint for failure to state a cause of action in his motion to dismiss the defendant argued that the act does not apply to adjustment committee and grievance proceedings conducted by the department of corrections doc the trial court granted the defendant s motion to dismiss and ratliff el appealed analysis motion to dismiss mandamus action a doc duty to follow act procedures ratliff el argues that a state agency must follow act procedures in contested cases he reasons that because the doc is a state agency and adjustment committee and grievance proceedings meet the statutory definition of contested cases the defendant has a clear duty to follow act procedures in doc adjustment committee and grievance proceedings he contends that the trial court erred in granting the defendant s motion to dismiss his mandamus cause of action the defendant asserts that the act contains a grandfathering clause 5 ilcs 100 1 5 a west 2000 which exempts a state agency from using act procedures when the agency had adjudicatory hearing rules in place on july 1 1977 the defendant contends that the doc had such adjudicatory hearing rules in place prior to july 1 1977 the defendant submits that because the act does not apply to doc adjustment committee and grievance proceedings the defendant has no duty to follow act procedures the defendant concludes therefore that ratliff el did not state a cause of action for mandamus relief we agree with the defendant a section 2 615 motion to dismiss attacks the legal sufficiency of a complaint and presents the issue of whether the complaint states a cause of action upon which relief can be granted 735 ilcs 5 2 615 west 2000 weiss v waterhouse securities inc 335 ill app 3d 875 781 n e 2d 1105 2002 the standard of review for granting a section 2 615 motion to dismiss is de novo krilich v american national bank trust co of chicago 334 ill app 3d 563 778 n e 2d 1153 2002 a writ of mandamus is an extraordinary remedy that may be used only to compel a public official to perform a nondiscretionary ministerial duty caruth v quinley 333 ill app 3d 94 775 n e 2d 224 2002 a complaint seeking a writ of mandamus must allege facts that establish 1 a clear right to the relief requested 2 a clear duty of the defendant to act and 3 the clear authority of the defendant to comply with the writ southern central illinois laborers district council v illinois health facilities planning board 331 ill app 3d 1112 772 n e 2d 980 2002 section 1 5 a of the act states as follows the act applies to every agency as defined in this act beginning january 1 1978 in case of conflict between the provisions of the act and the act creating or conferring power on an agency this act shall control if however an agency has existing procedures on july 1 1977 specifically for contested cases those existing provisions control except that this exception respecting contested cases does not apply if the act creating or conferring power on the agency adopts by express reference the provisions of this act where the act creating or conferring power on an agency establishes administrative procedures not covered by this act those procedures shall remain in effect 5 ilcs 100 1 5 a west 2000 it is uncontested that 1 the doc is an agency and 2 adjustment committee and grievance proceedings are contested cases as defined by the act see 5 ilcs 100 1 20 1 30 west 2000 the doc had procedures in place on july 1 1977 specifically for contested cases see e g adm reg department of corrections 804 at 2 eff june 18 1976 concerning adjustment committee hearing procedures these doc procedures continue to be in place under the illinois administrative code see 20 111 adm code 504 80 2003 the unified code of corrections code 730 ilcs 5 1 1 1 et seq west 2000 is the act that confers power on the doc 730 ilcs 5 3 2 2 west 2000 the code has not adopted the provisions of the act by express reference furthermore the code established administrative procedures for the doc not covered by the act before july 1 1977 see e g pub act 77 2097 eff january 1 1973 creating inter alia disciplinary and grievance procedures these procedures now are under sections 3 8 7 and 3 8 8 of the code 730 ilcs 5 3 8 7 3 8 8 west 2000 under section 1 5 a of the act doc adjustment committee and grievance procedures are not controlled by the act because the defendant did not have a duty to follow act procedures ratliff el s complaint did not state a cause of action for mandamus relief b due process ratliff el contends that he is entitled to mandamus relief because the defendant violated his due process rights by failing to follow act procedures mandamus is an appropriate remedy to compel the doc to conduct disciplinary hearings consistent with due process thompson v lane 194 ill app 3d 855 551 n e 2d 731 1990 in this case we determined that the doc does not have a duty to conduct disciplinary hearings under act procedures the defendant did not violate the plaintiffs due process rights by failing to follow act procedures ratliff el was not entitled to mandamus relief based on either 1 the defendant s failure to follow act procedures or 2 a violation of his due process rights therefore the trial court did not err as a matter of law by granting the defendant s section 2 615 motion to dismiss conclusion for the foregoing reasons we affirm the judgment of the will county circuit court granting the defendant s motion to dismiss ratliff el s mandamus action affirmed schmidt and lytton jj concur'"
      ]
     },
     "execution_count": 7,
     "metadata": {},
     "output_type": "execute_result"
    }
   ],
   "source": [
    "opinion_texts[0]"
   ]
  },
  {
   "cell_type": "markdown",
   "metadata": {},
   "source": [
    "### Remove stopwords\n",
    "\n",
    "The above text still contains a large number of \"stop words\", common words that may not too ubiquitous to be useful (emphasis on the *may*). Words like \"a\", \"they\", \"and\" increase the word count and require extra processing time and computing resources, and may not be helpful in your analysis. \n",
    "\n",
    "The loop below uses the gensim utility to remove common stopwords"
   ]
  },
  {
   "cell_type": "code",
   "execution_count": 8,
   "metadata": {
    "collapsed": true
   },
   "outputs": [],
   "source": [
    "for i in range(len(opinion_texts)):\n",
    "    opinion_texts[i] = remove_stopwords(opinion_texts[i])"
   ]
  },
  {
   "cell_type": "code",
   "execution_count": 9,
   "metadata": {},
   "outputs": [
    {
     "data": {
      "text/plain": [
       "'presiding justice mcdade delivered opinion court michael ratliff el filed complaint mandamus relief 735 ilcs 5 14 101 et seq west 2000 naming kenneth r briley warden stateville correctional center defendant trial court granted defendant s motion dismiss section 2 615 code civil procedure 735 ilcs 5 2 615 west 2000 appeal ratliff el argues trial court erred dismissing complaint stated cause action mandamus relief affirm background ratliff el prisoner stateville complaint ratliff el contended defendant clear duty follow illinois administrative procedure act act 5 ilcs 100 1 1 et seq west 2000 adjustment committee grievance proceedings stateville result proceedings ratliff el disciplined revocation good time credits ratliff el submitted entitled mandamus relief defendant failed follow act procedures alleged defendant s failure follow act procedures violated rights defendant filed section 2 615 motion dismiss ratliff el s mandamus complaint failure state cause action motion dismiss defendant argued act apply adjustment committee grievance proceedings conducted department corrections doc trial court granted defendant s motion dismiss ratliff el appealed analysis motion dismiss mandamus action doc duty follow act procedures ratliff el argues state agency follow act procedures contested cases reasons doc state agency adjustment committee grievance proceedings meet statutory definition contested cases defendant clear duty follow act procedures doc adjustment committee grievance proceedings contends trial court erred granting defendant s motion dismiss mandamus cause action defendant asserts act contains grandfathering clause 5 ilcs 100 1 5 west 2000 exempts state agency act procedures agency adjudicatory hearing rules place july 1 1977 defendant contends doc adjudicatory hearing rules place prior july 1 1977 defendant submits act apply doc adjustment committee grievance proceedings defendant duty follow act procedures defendant concludes ratliff el state cause action mandamus relief agree defendant section 2 615 motion dismiss attacks legal sufficiency complaint presents issue complaint states cause action relief granted 735 ilcs 5 2 615 west 2000 weiss v waterhouse securities 335 ill app 3d 875 781 n e 2d 1105 2002 standard review granting section 2 615 motion dismiss novo krilich v american national bank trust chicago 334 ill app 3d 563 778 n e 2d 1153 2002 writ mandamus extraordinary remedy compel public official perform nondiscretionary ministerial duty caruth v quinley 333 ill app 3d 94 775 n e 2d 224 2002 complaint seeking writ mandamus allege facts establish 1 clear right relief requested 2 clear duty defendant act 3 clear authority defendant comply writ southern central illinois laborers district council v illinois health facilities planning board 331 ill app 3d 1112 772 n e 2d 980 2002 section 1 5 act states follows act applies agency defined act beginning january 1 1978 case conflict provisions act act creating conferring power agency act shall control agency existing procedures july 1 1977 specifically contested cases existing provisions control exception respecting contested cases apply act creating conferring power agency adopts express reference provisions act act creating conferring power agency establishes administrative procedures covered act procedures shall remain effect 5 ilcs 100 1 5 west 2000 uncontested 1 doc agency 2 adjustment committee grievance proceedings contested cases defined act 5 ilcs 100 1 20 1 30 west 2000 doc procedures place july 1 1977 specifically contested cases e g adm reg department corrections 804 2 eff june 18 1976 concerning adjustment committee hearing procedures doc procedures continue place illinois administrative code 20 111 adm code 504 80 2003 unified code corrections code 730 ilcs 5 1 1 1 et seq west 2000 act confers power doc 730 ilcs 5 3 2 2 west 2000 code adopted provisions act express reference furthermore code established administrative procedures doc covered act july 1 1977 e g pub act 77 2097 eff january 1 1973 creating inter alia disciplinary grievance procedures procedures sections 3 8 7 3 8 8 code 730 ilcs 5 3 8 7 3 8 8 west 2000 section 1 5 act doc adjustment committee grievance procedures controlled act defendant duty follow act procedures ratliff el s complaint state cause action mandamus relief b process ratliff el contends entitled mandamus relief defendant violated process rights failing follow act procedures mandamus appropriate remedy compel doc conduct disciplinary hearings consistent process thompson v lane 194 ill app 3d 855 551 n e 2d 731 1990 case determined doc duty conduct disciplinary hearings act procedures defendant violate plaintiffs process rights failing follow act procedures ratliff el entitled mandamus relief based 1 defendant s failure follow act procedures 2 violation process rights trial court err matter law granting defendant s section 2 615 motion dismiss conclusion foregoing reasons affirm judgment county circuit court granting defendant s motion dismiss ratliff el s mandamus action affirmed schmidt lytton jj concur'"
      ]
     },
     "execution_count": 9,
     "metadata": {},
     "output_type": "execute_result"
    }
   ],
   "source": [
    "opinion_texts[0]"
   ]
  },
  {
   "cell_type": "markdown",
   "metadata": {},
   "source": [
    "### Remove very long or short words\n",
    "### Remove purely numerical data\n",
    "\n",
    "The text still contains a large number of short or purely numeric characters. These may or may not contain valuable information - for now, we'll remove them. "
   ]
  },
  {
   "cell_type": "code",
   "execution_count": 10,
   "metadata": {
    "collapsed": true
   },
   "outputs": [],
   "source": [
    "for i in range(len(opinion_texts)):\n",
    "    opinion_texts[i] = ' '.join([s for s in opinion_texts[i].split() if len(s) > 1 or s.isdigit() == False])"
   ]
  },
  {
   "cell_type": "code",
   "execution_count": 11,
   "metadata": {},
   "outputs": [
    {
     "data": {
      "text/plain": [
       "'presiding justice mcdade delivered opinion court michael ratliff el filed complaint mandamus relief 735 ilcs 14 101 et seq west 2000 naming kenneth r briley warden stateville correctional center defendant trial court granted defendant s motion dismiss section 615 code civil procedure 735 ilcs 615 west 2000 appeal ratliff el argues trial court erred dismissing complaint stated cause action mandamus relief affirm background ratliff el prisoner stateville complaint ratliff el contended defendant clear duty follow illinois administrative procedure act act ilcs 100 et seq west 2000 adjustment committee grievance proceedings stateville result proceedings ratliff el disciplined revocation good time credits ratliff el submitted entitled mandamus relief defendant failed follow act procedures alleged defendant s failure follow act procedures violated rights defendant filed section 615 motion dismiss ratliff el s mandamus complaint failure state cause action motion dismiss defendant argued act apply adjustment committee grievance proceedings conducted department corrections doc trial court granted defendant s motion dismiss ratliff el appealed analysis motion dismiss mandamus action doc duty follow act procedures ratliff el argues state agency follow act procedures contested cases reasons doc state agency adjustment committee grievance proceedings meet statutory definition contested cases defendant clear duty follow act procedures doc adjustment committee grievance proceedings contends trial court erred granting defendant s motion dismiss mandamus cause action defendant asserts act contains grandfathering clause ilcs 100 west 2000 exempts state agency act procedures agency adjudicatory hearing rules place july 1977 defendant contends doc adjudicatory hearing rules place prior july 1977 defendant submits act apply doc adjustment committee grievance proceedings defendant duty follow act procedures defendant concludes ratliff el state cause action mandamus relief agree defendant section 615 motion dismiss attacks legal sufficiency complaint presents issue complaint states cause action relief granted 735 ilcs 615 west 2000 weiss v waterhouse securities 335 ill app 3d 875 781 n e 2d 1105 2002 standard review granting section 615 motion dismiss novo krilich v american national bank trust chicago 334 ill app 3d 563 778 n e 2d 1153 2002 writ mandamus extraordinary remedy compel public official perform nondiscretionary ministerial duty caruth v quinley 333 ill app 3d 94 775 n e 2d 224 2002 complaint seeking writ mandamus allege facts establish clear right relief requested clear duty defendant act clear authority defendant comply writ southern central illinois laborers district council v illinois health facilities planning board 331 ill app 3d 1112 772 n e 2d 980 2002 section act states follows act applies agency defined act beginning january 1978 case conflict provisions act act creating conferring power agency act shall control agency existing procedures july 1977 specifically contested cases existing provisions control exception respecting contested cases apply act creating conferring power agency adopts express reference provisions act act creating conferring power agency establishes administrative procedures covered act procedures shall remain effect ilcs 100 west 2000 uncontested doc agency adjustment committee grievance proceedings contested cases defined act ilcs 100 20 30 west 2000 doc procedures place july 1977 specifically contested cases e g adm reg department corrections 804 eff june 18 1976 concerning adjustment committee hearing procedures doc procedures continue place illinois administrative code 20 111 adm code 504 80 2003 unified code corrections code 730 ilcs et seq west 2000 act confers power doc 730 ilcs west 2000 code adopted provisions act express reference furthermore code established administrative procedures doc covered act july 1977 e g pub act 77 2097 eff january 1973 creating inter alia disciplinary grievance procedures procedures sections code 730 ilcs west 2000 section act doc adjustment committee grievance procedures controlled act defendant duty follow act procedures ratliff el s complaint state cause action mandamus relief b process ratliff el contends entitled mandamus relief defendant violated process rights failing follow act procedures mandamus appropriate remedy compel doc conduct disciplinary hearings consistent process thompson v lane 194 ill app 3d 855 551 n e 2d 731 1990 case determined doc duty conduct disciplinary hearings act procedures defendant violate plaintiffs process rights failing follow act procedures ratliff el entitled mandamus relief based defendant s failure follow act procedures violation process rights trial court err matter law granting defendant s section 615 motion dismiss conclusion foregoing reasons affirm judgment county circuit court granting defendant s motion dismiss ratliff el s mandamus action affirmed schmidt lytton jj concur'"
      ]
     },
     "execution_count": 11,
     "metadata": {},
     "output_type": "execute_result"
    }
   ],
   "source": [
    "opinion_texts[0]"
   ]
  },
  {
   "cell_type": "markdown",
   "metadata": {},
   "source": [
    "### Removing words that are not in a particular corpus (such as the oxford english dictionary)\n",
    "\n",
    "You may have noticed that there are a number of words such as \"jj\" above that are nor part of the standard english language. These may be the result of data cleaning (such as artifacts of markup language). They may also be the result of legal language or other important data. As always, cleaning data is a decision you make that may or may not be necessary or desirable. "
   ]
  },
  {
   "cell_type": "code",
   "execution_count": 12,
   "metadata": {
    "collapsed": true
   },
   "outputs": [],
   "source": [
    "words = set(nltk.corpus.words.words())\n",
    "\n",
    "for i in range(len(opinion_texts)):\n",
    "    opinion_texts[i] = ' '.join([s for s in opinion_texts[i].split() if s in words])"
   ]
  },
  {
   "cell_type": "code",
   "execution_count": 13,
   "metadata": {},
   "outputs": [
    {
     "data": {
      "text/plain": [
       "'justice opinion court el complaint mandamus relief west naming r warden correctional center defendant trial court defendant s motion dismiss section code civil procedure west appeal el trial court complaint stated cause action mandamus relief affirm background el prisoner complaint el defendant clear duty follow administrative procedure act act west adjustment committee grievance result el revocation good time el mandamus relief defendant follow act defendant s failure follow act defendant section motion dismiss el s mandamus complaint failure state cause action motion dismiss defendant act apply adjustment committee grievance department doc trial court defendant s motion dismiss el analysis motion dismiss mandamus action doc duty follow act el state agency follow act doc state agency adjustment committee grievance meet statutory definition defendant clear duty follow act doc adjustment committee grievance trial court defendant s motion dismiss mandamus cause action defendant act clause west state agency act agency hearing place defendant doc hearing place prior defendant act apply doc adjustment committee grievance defendant duty follow act defendant el state cause action mandamus relief agree defendant section motion dismiss legal sufficiency complaint issue complaint cause action relief west v ill n e standard review section motion dismiss v national bank trust ill n e writ mandamus extraordinary remedy compel public official perform nondiscretionary ministerial duty v ill n e complaint seeking writ mandamus allege establish clear right relief clear duty defendant act clear authority defendant comply writ southern central district council v health board ill n e section act act agency defined act beginning case conflict act act power agency act shall control agency specifically control exception respecting apply act power agency express reference act act power agency administrative covered act shall remain effect west uncontested doc agency adjustment committee grievance defined act west doc place specifically e g reg department june concerning adjustment committee hearing doc continue place administrative code code unified code code west act power doc west code adopted act express reference furthermore code established administrative doc covered act e g pub act inter disciplinary grievance code west section act doc adjustment committee grievance act defendant duty follow act el s complaint state cause action mandamus relief b process el mandamus relief defendant process failing follow act mandamus appropriate remedy compel doc conduct disciplinary consistent process v lane ill n e case determined doc duty conduct disciplinary act defendant violate process failing follow act el mandamus relief based defendant s failure follow act violation process trial court err matter law defendant s section motion dismiss conclusion foregoing affirm judgment county circuit court defendant s motion dismiss el s mandamus action concur'"
      ]
     },
     "execution_count": 13,
     "metadata": {},
     "output_type": "execute_result"
    }
   ],
   "source": [
    "opinion_texts[0]"
   ]
  },
  {
   "cell_type": "markdown",
   "metadata": {},
   "source": [
    "## 5. Tokenize the sentences\n",
    "\n",
    "We've cleaned the data, but it is still stored in large blocks of text. The next step, *tokenization*, will convert each line into a list of individual words. "
   ]
  },
  {
   "cell_type": "code",
   "execution_count": 14,
   "metadata": {
    "collapsed": true
   },
   "outputs": [],
   "source": [
    " for text in opinion_texts:\n",
    "    tokenized_sentences.append(word_tokenize(text))"
   ]
  },
  {
   "cell_type": "code",
   "execution_count": 15,
   "metadata": {},
   "outputs": [
    {
     "data": {
      "text/plain": [
       "['justice',\n",
       " 'opinion',\n",
       " 'court',\n",
       " 'el',\n",
       " 'complaint',\n",
       " 'mandamus',\n",
       " 'relief',\n",
       " 'west',\n",
       " 'naming',\n",
       " 'r',\n",
       " 'warden',\n",
       " 'correctional',\n",
       " 'center',\n",
       " 'defendant',\n",
       " 'trial',\n",
       " 'court',\n",
       " 'defendant',\n",
       " 's',\n",
       " 'motion',\n",
       " 'dismiss',\n",
       " 'section',\n",
       " 'code',\n",
       " 'civil',\n",
       " 'procedure',\n",
       " 'west',\n",
       " 'appeal',\n",
       " 'el',\n",
       " 'trial',\n",
       " 'court',\n",
       " 'complaint',\n",
       " 'stated',\n",
       " 'cause',\n",
       " 'action',\n",
       " 'mandamus',\n",
       " 'relief',\n",
       " 'affirm',\n",
       " 'background',\n",
       " 'el',\n",
       " 'prisoner',\n",
       " 'complaint',\n",
       " 'el',\n",
       " 'defendant',\n",
       " 'clear',\n",
       " 'duty',\n",
       " 'follow',\n",
       " 'administrative',\n",
       " 'procedure',\n",
       " 'act',\n",
       " 'act',\n",
       " 'west']"
      ]
     },
     "execution_count": 15,
     "metadata": {},
     "output_type": "execute_result"
    }
   ],
   "source": [
    "tokenized_sentences[0][:50]"
   ]
  },
  {
   "cell_type": "markdown",
   "metadata": {},
   "source": [
    "## 6. Fitting/Training a Model"
   ]
  },
  {
   "cell_type": "code",
   "execution_count": 16,
   "metadata": {
    "collapsed": true
   },
   "outputs": [],
   "source": [
    "model = gensim.models.Word2Vec(tokenized_sentences, size=100, window=5, min_count=1, \n",
    "                               sg=1, alpha=0.025, iter=5, batch_words=10000, workers=1)"
   ]
  },
  {
   "cell_type": "markdown",
   "metadata": {},
   "source": [
    "## 7. Investigate Word Embeddings"
   ]
  },
  {
   "cell_type": "markdown",
   "metadata": {
    "collapsed": true
   },
   "source": [
    "### So... what is produced?\n",
    "\n",
    "Gensim uses a neural network to assign a multidimensional vector that captures the semantic relationship of this word to all the other words in the corpus. \n",
    "\n",
    "Here's what these vectors look like:"
   ]
  },
  {
   "cell_type": "code",
   "execution_count": 17,
   "metadata": {},
   "outputs": [
    {
     "data": {
      "text/plain": [
       "array([ 0.00701938,  0.22094099, -0.15280345, -0.50170106, -0.27767855,\n",
       "        0.51009   ,  0.02911096,  0.40067425,  0.14857315, -0.10556585,\n",
       "        0.51372594, -0.48644233,  0.06245834, -0.32191032, -0.09962041,\n",
       "        0.04739412, -0.03328784, -0.42241785, -0.08324668, -0.24245842,\n",
       "       -0.20356582,  0.56792104,  0.03647023, -0.09189005,  0.17705068,\n",
       "        0.14200348,  0.18672164,  0.20708947, -0.07524716, -0.406505  ,\n",
       "        0.6346041 ,  0.2355772 , -0.20756352,  0.05427392, -0.06049706,\n",
       "        0.2637598 ,  0.354273  ,  0.09091789,  0.24763025, -0.50954473,\n",
       "        0.06509677, -0.28176588, -0.05760124, -0.58445543, -0.30940828,\n",
       "       -0.48035797, -0.1267416 , -0.01961134,  0.14403361,  0.11418576,\n",
       "        0.23265237,  0.28409806,  0.1919261 , -0.15587963, -0.74528646,\n",
       "       -0.47695988,  0.26640132, -0.06748142, -0.47188064, -0.11900415,\n",
       "       -0.35109052,  0.11595055,  0.20724599,  0.25475547, -0.5731801 ,\n",
       "        0.33086613,  0.16601874, -0.10529891, -0.40076622, -0.14220546,\n",
       "        0.10966949,  0.22581233, -0.10917562,  0.35007542,  0.40006325,\n",
       "       -0.21420266,  0.41026363, -0.11185642,  0.10940168, -0.48841646,\n",
       "       -0.04548796, -0.29230854, -0.1732019 , -0.1135508 ,  0.02581248,\n",
       "        0.4808586 , -0.12884276,  0.5120891 , -0.26893455,  0.10008493,\n",
       "        0.2531219 ,  0.07268908, -0.13682769,  0.14662856, -0.01098877,\n",
       "        0.5711804 ,  0.15042026,  0.56771106, -0.25677067,  0.22593358],\n",
       "      dtype=float32)"
      ]
     },
     "execution_count": 17,
     "metadata": {},
     "output_type": "execute_result"
    }
   ],
   "source": [
    "model.wv['bad']"
   ]
  },
  {
   "cell_type": "markdown",
   "metadata": {},
   "source": [
    "### Comparing semantic similarity of words\n",
    "\n",
    "The similarity of one word to another in the corpus can be calculated using the cosine similarity of the vectors assigned to each word. Note that the semantic similarity may not capture all aspects of a word. For instance, antonymns may be used in such similar sentence structure that they have similar word vectors, even though they have opposite meanings. \n",
    "\n",
    "First, let's use Gensim to find the words with the highest cosine similarity to an existing word."
   ]
  },
  {
   "cell_type": "code",
   "execution_count": 18,
   "metadata": {},
   "outputs": [
    {
     "name": "stderr",
     "output_type": "stream",
     "text": [
      "/Users/boushey/anaconda/lib/python3.5/site-packages/gensim/matutils.py:737: FutureWarning: Conversion of the second argument of issubdtype from `int` to `np.signedinteger` is deprecated. In future, it will be treated as `np.int64 == np.dtype(int).type`.\n",
      "  if np.issubdtype(vec.dtype, np.int):\n"
     ]
    },
    {
     "data": {
      "text/plain": [
       "[('faith', 0.7902333736419678),\n",
       " ('unconscionably', 0.7755246162414551),\n",
       " ('unconscionable', 0.7361494302749634),\n",
       " ('debarment', 0.6967447400093079),\n",
       " ('inducement', 0.6940716505050659),\n",
       " ('unclean', 0.6791157722473145),\n",
       " ('partiality', 0.6756536960601807),\n",
       " ('unjustifiably', 0.6710824966430664),\n",
       " ('good', 0.6697852611541748),\n",
       " ('unexcused', 0.6653245687484741)]"
      ]
     },
     "execution_count": 18,
     "metadata": {},
     "output_type": "execute_result"
    }
   ],
   "source": [
    "model.wv.most_similar('bad')"
   ]
  },
  {
   "cell_type": "markdown",
   "metadata": {},
   "source": [
    "### Words with different contexts\n",
    "\n",
    "You may notice that many of the words associated with \"bad\" represent different contexts. Bad can mean immoral, insincere, or untrue. We can use gensim to remove certain contexts or emphasize others when searching for words with similar semantic usage."
   ]
  },
  {
   "cell_type": "code",
   "execution_count": 19,
   "metadata": {},
   "outputs": [
    {
     "name": "stderr",
     "output_type": "stream",
     "text": [
      "/Users/boushey/anaconda/lib/python3.5/site-packages/gensim/matutils.py:737: FutureWarning: Conversion of the second argument of issubdtype from `int` to `np.signedinteger` is deprecated. In future, it will be treated as `np.int64 == np.dtype(int).type`.\n",
      "  if np.issubdtype(vec.dtype, np.int):\n"
     ]
    },
    {
     "data": {
      "text/plain": [
       "[('hesitant', 0.8060867190361023),\n",
       " ('fateful', 0.7999908924102783),\n",
       " ('hoped', 0.798568606376648),\n",
       " ('fay', 0.798460841178894),\n",
       " ('yesterday', 0.7982237935066223),\n",
       " ('blamed', 0.7972657680511475),\n",
       " ('unconscionably', 0.7965033054351807),\n",
       " ('inquiring', 0.7960062026977539),\n",
       " ('detract', 0.7949225902557373),\n",
       " ('animosity', 0.7947283983230591)]"
      ]
     },
     "execution_count": 19,
     "metadata": {},
     "output_type": "execute_result"
    }
   ],
   "source": [
    "model.wv.most_similar(positive=['bad','trouble'])"
   ]
  },
  {
   "cell_type": "code",
   "execution_count": 20,
   "metadata": {},
   "outputs": [
    {
     "name": "stderr",
     "output_type": "stream",
     "text": [
      "/Users/boushey/anaconda/lib/python3.5/site-packages/gensim/matutils.py:737: FutureWarning: Conversion of the second argument of issubdtype from `int` to `np.signedinteger` is deprecated. In future, it will be treated as `np.int64 == np.dtype(int).type`.\n",
      "  if np.issubdtype(vec.dtype, np.int):\n"
     ]
    },
    {
     "data": {
      "text/plain": [
       "[('hesitant', 0.8060867190361023),\n",
       " ('fateful', 0.7999908924102783),\n",
       " ('hoped', 0.798568606376648),\n",
       " ('fay', 0.798460841178894),\n",
       " ('yesterday', 0.7982237935066223),\n",
       " ('blamed', 0.7972657680511475),\n",
       " ('unconscionably', 0.7965033054351807),\n",
       " ('inquiring', 0.7960062026977539),\n",
       " ('detract', 0.7949225902557373),\n",
       " ('animosity', 0.7947283983230591)]"
      ]
     },
     "execution_count": 20,
     "metadata": {},
     "output_type": "execute_result"
    }
   ],
   "source": [
    "model.wv.most_similar(positive=['bad','trouble'])"
   ]
  },
  {
   "cell_type": "markdown",
   "metadata": {},
   "source": [
    "You can combine positive and negative context as you search for words with similar vectors."
   ]
  },
  {
   "cell_type": "code",
   "execution_count": 21,
   "metadata": {},
   "outputs": [
    {
     "name": "stderr",
     "output_type": "stream",
     "text": [
      "/Users/boushey/anaconda/lib/python3.5/site-packages/gensim/matutils.py:737: FutureWarning: Conversion of the second argument of issubdtype from `int` to `np.signedinteger` is deprecated. In future, it will be treated as `np.int64 == np.dtype(int).type`.\n",
      "  if np.issubdtype(vec.dtype, np.int):\n"
     ]
    },
    {
     "data": {
      "text/plain": [
       "[('good', 0.33755171298980713),\n",
       " ('covenant', 0.3333086371421814),\n",
       " ('unconscionable', 0.3154163658618927),\n",
       " ('dealing', 0.2948612570762634),\n",
       " ('franchise', 0.28714901208877563),\n",
       " ('expulsion', 0.276449978351593),\n",
       " ('uniformity', 0.27462899684906006),\n",
       " ('inequitable', 0.27393051981925964),\n",
       " ('breach', 0.26943618059158325),\n",
       " ('unjust', 0.2682061791419983)]"
      ]
     },
     "execution_count": 21,
     "metadata": {},
     "output_type": "execute_result"
    }
   ],
   "source": [
    "model.wv.most_similar(positive=['bad','faith'], negative=['bad','trouble'])"
   ]
  },
  {
   "cell_type": "markdown",
   "metadata": {},
   "source": [
    "### Semantic similarity of two words\n",
    "\n",
    "You can use Gensim to retrieve the semantic similarity of two words. This operation will return the cosine similarity between the terms."
   ]
  },
  {
   "cell_type": "code",
   "execution_count": 22,
   "metadata": {},
   "outputs": [
    {
     "name": "stdout",
     "output_type": "stream",
     "text": [
      "0.7902334\n"
     ]
    },
    {
     "name": "stderr",
     "output_type": "stream",
     "text": [
      "/Users/boushey/anaconda/lib/python3.5/site-packages/gensim/matutils.py:737: FutureWarning: Conversion of the second argument of issubdtype from `int` to `np.signedinteger` is deprecated. In future, it will be treated as `np.int64 == np.dtype(int).type`.\n",
      "  if np.issubdtype(vec.dtype, np.int):\n"
     ]
    }
   ],
   "source": [
    "print(model.wv.similarity('bad', 'faith'))"
   ]
  },
  {
   "cell_type": "markdown",
   "metadata": {},
   "source": [
    "### Calculating the cosine similarity\n",
    "\n",
    "We can get the vectors for each word and calculate the cosine directly"
   ]
  },
  {
   "cell_type": "code",
   "execution_count": 23,
   "metadata": {},
   "outputs": [
    {
     "name": "stdout",
     "output_type": "stream",
     "text": [
      "0.7902334\n"
     ]
    }
   ],
   "source": [
    "unconscionably_vec = model.wv['bad']\n",
    "bad_vec = model.wv['faith']\n",
    "\n",
    "cos_sim = np.dot(bad_vec, unconscionably_vec) / (np.linalg.norm(bad_vec) * np.linalg.norm(unconscionably_vec))\n",
    "\n",
    "print(cos_sim)"
   ]
  },
  {
   "cell_type": "markdown",
   "metadata": {},
   "source": [
    "### Working directly with vectors\n",
    "\n",
    "Gensim has an API to work direcly with vectors rather than terms. "
   ]
  },
  {
   "cell_type": "code",
   "execution_count": 24,
   "metadata": {},
   "outputs": [
    {
     "name": "stderr",
     "output_type": "stream",
     "text": [
      "/Users/boushey/anaconda/lib/python3.5/site-packages/gensim/matutils.py:737: FutureWarning: Conversion of the second argument of issubdtype from `int` to `np.signedinteger` is deprecated. In future, it will be treated as `np.int64 == np.dtype(int).type`.\n",
      "  if np.issubdtype(vec.dtype, np.int):\n"
     ]
    },
    {
     "data": {
      "text/plain": [
       "[('faith', 0.7902333736419678),\n",
       " ('unconscionably', 0.7755246162414551),\n",
       " ('unconscionable', 0.7361494302749634),\n",
       " ('debarment', 0.6967447400093079),\n",
       " ('inducement', 0.6940716505050659),\n",
       " ('unclean', 0.6791157722473145),\n",
       " ('partiality', 0.6756536960601807),\n",
       " ('unjustifiably', 0.6710824966430664),\n",
       " ('good', 0.6697852611541748),\n",
       " ('unexcused', 0.6653245687484741)]"
      ]
     },
     "execution_count": 24,
     "metadata": {},
     "output_type": "execute_result"
    }
   ],
   "source": [
    "model.wv.similar_by_vector('bad', 10)"
   ]
  },
  {
   "cell_type": "code",
   "execution_count": 25,
   "metadata": {},
   "outputs": [
    {
     "name": "stderr",
     "output_type": "stream",
     "text": [
      "/Users/boushey/anaconda/lib/python3.5/site-packages/gensim/matutils.py:737: FutureWarning: Conversion of the second argument of issubdtype from `int` to `np.signedinteger` is deprecated. In future, it will be treated as `np.int64 == np.dtype(int).type`.\n",
      "  if np.issubdtype(vec.dtype, np.int):\n"
     ]
    },
    {
     "data": {
      "text/plain": [
       "[('faith', 1.0),\n",
       " ('good', 0.8285004496574402),\n",
       " ('bad', 0.7902333736419678),\n",
       " ('dealing', 0.6986989974975586),\n",
       " ('unconscionably', 0.693325936794281),\n",
       " ('unconscionable', 0.6815456748008728),\n",
       " ('debarment', 0.6797981858253479),\n",
       " ('negotiate', 0.6335129141807556),\n",
       " ('magistrate', 0.6237947344779968),\n",
       " ('exclusionary', 0.6162017583847046)]"
      ]
     },
     "execution_count": 25,
     "metadata": {},
     "output_type": "execute_result"
    }
   ],
   "source": [
    "model.wv.similar_by_vector(bad_vec, 10)"
   ]
  },
  {
   "cell_type": "code",
   "execution_count": 26,
   "metadata": {},
   "outputs": [
    {
     "name": "stdout",
     "output_type": "stream",
     "text": [
      "100\n",
      "<class 'numpy.ndarray'>\n",
      "[ 0.19991836  0.42959315 -0.00195875 -0.50486654 -0.03483067  0.4531444\n",
      "  0.03078997  0.56425565  0.04899023  0.03497435  1.0157025  -0.442698\n",
      "  0.25807434 -0.3602112  -0.23702817 -0.38652173 -0.13934714 -0.25396425\n",
      " -0.08340971 -0.39310342 -0.28394803  0.51564896  0.11429871  0.0154471\n",
      "  0.34896383  0.25200263  0.37118024 -0.10311092  0.00720619 -0.26121753\n",
      "  0.43502763  0.5238067   0.1720223  -0.22057085 -0.2518186   0.44024298\n",
      "  0.04365176  0.04491034  0.31403553 -0.9051641   0.00958377 -0.19553095\n",
      " -0.02772343 -1.3258141   0.01980148 -0.69993716 -0.34998187 -0.29732952\n",
      "  0.45311156  0.22171363 -0.06907912  0.07873448  0.6786062   0.33023342\n",
      " -0.7220933  -0.452502    0.05017934 -0.06889845 -0.29777956 -0.4275067\n",
      " -0.57381713 -0.18528908 -0.27523342  0.27520064 -0.40500543  0.12614888\n",
      "  0.4314285   0.07553516 -0.4301024  -0.44571438 -0.09112114  0.54893994\n",
      "  0.3462697   0.26099944  0.60331875 -0.18179591  0.05178003 -0.09654211\n",
      "  0.20948063 -0.8506334  -0.27222916  0.06637511 -0.02297964  0.00252805\n",
      " -0.35418797  0.36223808 -0.3420015   0.39097977 -0.23222293  0.42531157\n",
      "  0.45364803  0.03567041 -0.6540313  -0.0972244  -0.15945932  0.67641664\n",
      "  0.26710513  0.7303645  -0.05024731  0.5054471 ]\n"
     ]
    }
   ],
   "source": [
    "print(len(bad_vec))\n",
    "print(type(bad_vec))\n",
    "print(bad_vec)"
   ]
  },
  {
   "cell_type": "markdown",
   "metadata": {},
   "source": [
    "You can create vectors yourself and find terms with semantic similarity"
   ]
  },
  {
   "cell_type": "code",
   "execution_count": 27,
   "metadata": {},
   "outputs": [
    {
     "name": "stderr",
     "output_type": "stream",
     "text": [
      "/Users/boushey/anaconda/lib/python3.5/site-packages/gensim/matutils.py:737: FutureWarning: Conversion of the second argument of issubdtype from `int` to `np.signedinteger` is deprecated. In future, it will be treated as `np.int64 == np.dtype(int).type`.\n",
      "  if np.issubdtype(vec.dtype, np.int):\n"
     ]
    },
    {
     "data": {
      "text/plain": [
       "[('returned', 0.21916073560714722),\n",
       " ('clear', 0.21503575146198273),\n",
       " ('negligence', 0.1905280351638794),\n",
       " ('left', 0.18542763590812683),\n",
       " ('uniform', 0.1840793341398239),\n",
       " ('stood', 0.17986328899860382),\n",
       " ('change', 0.17397582530975342),\n",
       " ('convincing', 0.16768872737884521),\n",
       " ('neglect', 0.16739225387573242),\n",
       " ('seat', 0.16583484411239624)]"
      ]
     },
     "execution_count": 27,
     "metadata": {},
     "output_type": "execute_result"
    }
   ],
   "source": [
    "vec = np.random.uniform(-1, 1, 100)\n",
    "model.wv.similar_by_vector(vec, 10)"
   ]
  },
  {
   "cell_type": "markdown",
   "metadata": {},
   "source": [
    "## 7. Plotting And Visualization\n",
    "\n",
    "For this exercise, we'll visualize the degree of positive and netagive semantic association of virtues and vices with \"good\" and \"bad\".\n",
    "\n",
    "I left a few of the virtues and vices out for this exercise - you may need to increase the number of records you process to include all these words, and you may need to increase it more to get good or interesting associations. For now, I'd recommend you keep it small and get it running, you can expand once you have the code working."
   ]
  },
  {
   "cell_type": "code",
   "execution_count": 28,
   "metadata": {
    "collapsed": true
   },
   "outputs": [],
   "source": [
    "virtues_vices = ['courage', 'charity', 'honor', 'truth', 'honesty', 'greed', 'cruelty', 'pride']"
   ]
  },
  {
   "cell_type": "code",
   "execution_count": 29,
   "metadata": {},
   "outputs": [
    {
     "name": "stderr",
     "output_type": "stream",
     "text": [
      "/Users/boushey/anaconda/lib/python3.5/site-packages/gensim/matutils.py:737: FutureWarning: Conversion of the second argument of issubdtype from `int` to `np.signedinteger` is deprecated. In future, it will be treated as `np.int64 == np.dtype(int).type`.\n",
      "  if np.issubdtype(vec.dtype, np.int):\n"
     ]
    }
   ],
   "source": [
    "bad_score = [model.wv.similarity(['bad'], word) for word in virtues_vices]\n",
    "good_score = [model.wv.similarity(['good'], word) for word in virtues_vices]"
   ]
  },
  {
   "cell_type": "code",
   "execution_count": 30,
   "metadata": {
    "collapsed": true
   },
   "outputs": [],
   "source": [
    "import matplotlib\n",
    "import matplotlib.pyplot as plt\n",
    "%matplotlib inline"
   ]
  },
  {
   "cell_type": "code",
   "execution_count": 31,
   "metadata": {},
   "outputs": [
    {
     "data": {
      "image/png": "[encoded data removed]",
      "text/plain": [
       "<Figure size 1440x1440 with 1 Axes>"
      ]
     },
     "metadata": {},
     "output_type": "display_data"
    }
   ],
   "source": [
    "_, ax = plt.subplots(figsize=(20,20))\n",
    "ax.scatter(bad_score, good_score, alpha=1, color='b')\n",
    "for i in range(len(virtues_vices)):\n",
    "    ax.annotate(virtues_vices[i], (bad_score[i], good_score[i])).set_fontsize(16)\n",
    "ax.set_xlim(.25, 1.1)\n",
    "ax.set_ylim(.25, 1.1)\n",
    "ax.yaxis.label.set_fontsize(16)\n",
    "ax.xaxis.label.set_fontsize(16)\n",
    "plt.xlabel('bad score')\n",
    "plt.ylabel('good score')\n",
    "for item in (ax.get_xticklabels() + ax.get_yticklabels()):\n",
    "    item.set_fontsize(16)\n",
    "plt.plot([0, 1], [0, 1], linestyle='--');"
   ]
  }
 ],
 "metadata": {
  "kernelspec": {
   "display_name": "Python 3",
   "language": "python",
   "name": "python3"
  },
  "language_info": {
   "codemirror_mode": {
    "name": "ipython",
    "version": 3
   },
   "file_extension": ".py",
   "mimetype": "text/x-python",
   "name": "python",
   "nbconvert_exporter": "python",
   "pygments_lexer": "ipython3",
   "version": "3.5.4"
  }
 },
 "nbformat": 4,
 "nbformat_minor": 2
}
