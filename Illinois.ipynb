{
 "cells": [
  {
   "cell_type": "code",
   "execution_count": 1,
   "metadata": {
    "collapsed": true
   },
   "outputs": [],
   "source": [
    "# notes from a collaborative work session for the \n",
    "# text analysis symposium 2018 at Berkeley\n",
    "# http://www.textxd.org/programs/textxd2018/\n",
    "\n",
    "# worksheet, hacking around with the case law data from the caselaw access project at\n",
    "# https://case.law/\n",
    "\n",
    "# I'm using the illinois data, which is available without registration on the site. \n",
    "# in this workbook, I use the jsonl file. You can use the API, but it limits to 100 per page.\n",
    "\n",
    "# a lot of this is based on the \"Text analysis and deep learning tools\" session from the\n",
    "# wednesday session: \n",
    "# https://github.com/TextXD/charters4textxd2018/blob/master/notebooks/wem_workshop_textXD18.ipynb\n",
    "\n",
    "# there's no specific analysis in this workbook\n",
    "# it's notes from figuring out how to load files, \n",
    "# use the GenSim api and so forth"
   ]
  },
  {
   "cell_type": "code",
   "execution_count": 49,
   "metadata": {},
   "outputs": [
    {
     "name": "stdout",
     "output_type": "stream",
     "text": [
      "0 processed\n",
      "1000 processed\n",
      "2000 processed\n",
      "3000 processed\n",
      "4000 processed\n",
      "5000 processed\n",
      "6000 processed\n",
      "7000 processed\n",
      "8000 processed\n",
      "9000 processed\n",
      "10000 processed\n",
      "0 cleaned\n",
      "1000 cleaned\n",
      "2000 cleaned\n",
      "3000 cleaned\n",
      "4000 cleaned\n",
      "5000 cleaned\n",
      "6000 cleaned\n",
      "7000 cleaned\n",
      "8000 cleaned\n",
      "9000 cleaned\n",
      "10000 cleaned\n",
      "model ready\n"
     ]
    }
   ],
   "source": [
    "import requests\n",
    "import json\n",
    "import re\n",
    "import gensim\n",
    "from gensim.parsing.preprocessing import remove_stopwords\n",
    "from gensim.parsing.preprocessing import strip_non_alphanum\n",
    "from nltk import word_tokenize\n",
    "\n",
    "import json\n",
    "\n",
    "#for visualization\n",
    "from scipy.spatial.distance import cosine\n",
    "from sklearn.metrics import pairwise\n",
    "from sklearn.manifold import MDS, TSNE\n",
    "import matplotlib.pyplot as plt\n",
    "\n",
    "max_records = 10000\n",
    "\n",
    "data = []\n",
    "with open('data.jsonl') as f:\n",
    "    for i, line in enumerate(f):\n",
    "        data.append(json.loads(line))\n",
    "        if i % 1000 == 0:\n",
    "            print(i, \"processed\")\n",
    "        # set max of 10,000 rows for now, increase or remove this to get the entire data set\n",
    "        if i > max_records:\n",
    "            break\n",
    "\n",
    "#print(data[0]['casebody']['data']['opinions'][0]['text'])\n",
    "\n",
    "opinion_texts = []\n",
    "for i in range(len(data)):\n",
    "    if data[i]['casebody']['data']['opinions']:\n",
    "        text = data[i]['casebody']['data']['opinions'][0]['text'].lower()\n",
    "        text = strip_non_alphanum(text)\n",
    "        if i % 1000 == 0:\n",
    "            print(i, \"cleaned\")\n",
    "        text = remove_stopwords(text)\n",
    "        opinion_texts.append(text)\n",
    "\n",
    "tokenized_sentences = []\n",
    "for s in opinion_texts:\n",
    "    tokenized_sentences.append(word_tokenize(s))\n",
    "\n",
    "model = gensim.models.Word2Vec(tokenized_sentences, size=100, window=5, min_count=1, \n",
    "                               sg=1, alpha=0.025, iter=5, batch_words=10000, workers=1)\n",
    "\n",
    "print(\"model ready\")"
   ]
  },
  {
   "cell_type": "code",
   "execution_count": 51,
   "metadata": {},
   "outputs": [
    {
     "name": "stdout",
     "output_type": "stream",
     "text": [
      "['court', 'case', 'judgment', 'said', 'evidence', 'v', 'defendant', 'plaintiff', 's', 'law', 'time', 'property', 'land', 'shall', 'act', 'right', 'county', 'jury', 'appellant', 'sale', 'error', 'question', 'contract', 'deed', 'decree', 'action', 'money', 'opinion', 'title', 'cause', 'justice', 'state', 'note', 'record', 'appellee', 'parties', 'statute', 'paid', 'given', 'payment', 'company', 'defendants', 'held', 'reversed', 'pay', 'circuit', 'day', 'possession', 'delivered', 'party', 'suit', 'trial', 'estate', 'section', 'power', 'affirmed', 'fact', 'cases', 'notice', 'having', 'taken', '1', 'ill', 'mortgage', 'rule', 'execution', 'general', 'premises', 'order', 'person', 'mr', 'damages', 'agreement', 'term', 'dollars', 'facts', 'city', 'filed', 'brought', 'sold', 'r', 'consideration', 'purpose', 'verdict', 'required', 'complainant', 'plea', 'purchase', 'claim', 'set', 'necessary', 'proof', 'sum', 'lands', 'plaintiffs', 'legal', 'new', 'sufficient', 'subject', 'public', 'j', 'received', 'reason', 'use', 'declaration', 'testimony', 'common', 'rendered', 'entitled', 'jurisdiction', 'authority', 'value', 'proper', 'bond', 'motion', 'notes', 'years', '2', 'appears', 'witness', 'good', 'debt', 'executed', 'rights', 'second', 'entered', 'true', 'objection', 'equity', 'recover', 'persons', 'instruction', 'think', 'issue', 'appellants', 'writ', 'answer', 'certain', 'courts', 'ground', 'effect', 'point', 'road', 'costs', 'liable', 'duty', 'appeal', 'real', 'terms', 'account', 'c', 'matter', 'place', 'proceedings', 'owner', 'sheriff', 'states', 'instructions', 'goods', 'circumstances', 'assigned', 'remanded', 'counsel', 'favor', 'wife', 'office', 'chicago', 'trust', 'present', 'business', 'bank', 'demurrer', 'character', 'making', 'legislature', 'appear', 'taxes', 'agent', 'manner', '3', 'alleged', 'claimed', 'sustained', 'town', 'lien', 'stated', 'special', 'railroad', 'issued', 'construction', 'acts', 'refused', 'doubt', 'decision', 'shows', 'clerk', 'presented', 'considered', 'house', 'year', 'hold', 'far', 'lot', 'fraud', 'properly', 'purchaser', 'shown', 'allowed', 'portion', 'laws', 'proceeding', 'husband', 'original', 'different', 'agreed', 'proved', 'injury', 'appellees', 'reasonable', 'intended', 'work', 'sell', 'thereof', 'personal', 'principle', 'condition', 'et', 'regard', 'void', 'application', 'bound', 'way', 'tax', 'john', 'prove', 'provided', 'date', 'offered', 'return', 'conveyance', 'purchased', 'obtained', 'admitted', 'benefit', '4', 'al', 'provisions', 'constitution', 'witnesses', 'heirs', 'authorized', 'days', 'view', 'urged', 'hands', 'clearly', 'gave', 'attorney', 'creditors', 'words', 'stock', 'form', 'according', 'half', 'certificate', 'means', 'took', 'force', 'called', 'intention', 'reference', 'people', 'says', 'following', 'board', 'decided', 'assignment', 'conveyed', 'liability', 'asked', 'affidavit', 'follows', 'fully', 'officer', 'insisted', 'defense', 'negligence', 'mere', 'debts', 'petition', 'principal', 'chancery', 'walker', 'charge', 'great', 'recovery', 'commissioners', 'loss', 'receive', 'subsequent', 'lots', 'instrument', 'p', 'illinois', 'march', 'policy', 'passed', 'left', 'security', 'extent', 'provision', 'aside', 'knowledge', 'peace', 'death', 'like', 'corporation', 'administrator', 'process', 'guilty', 'support', 'giving', 'particular', 'pleas', 'exercise', 'referred', 'deceased', 'language', 'price', 'settled', 'writing', 'complainants', 'practice', 'exceptions', 'mode', 'cent', 'smith', 'established', 'provides', 'want', 'election', 'erred', 'street', '5', 'claims', 'purposes', 'firm', 'consent', 'thousand', 'demand', 'express', 'failed', 'controversy', 'finding', 'default', 'performance', 'control', 'non', 'authorities', 'nature', 'judge', 'taking', 'written', 'require', 'transaction', 'february', 'october', 'believe', 'delivery', 'ought', 'determine', 'know', 'relief', 'fee', 'bar', 'service', 'questions', 'large', 'relation', 'overruled', 'actual', 'april', 'b', 'levy', 'clear', 'sued', 'known', 'assessment', 'building', 'united', 'object', 'chief', 'bonds', 'charged', 'granted', 'change', 'prior', 'applied', 'permitted', 'leave', 'tract', 'contained', 'course', 'lease', 'master', 'trustees', 'placed', 'thereon', 'returned', 'government', 'breese', 'doctrine', 'described', 'payable', 'promise', 'remedy', 'secure', 'june', 'acquired', 'balance', 'january', 'heard', 'position', 'supposed', 'showing', 'declared', 'h', 'material', 'report', 'examination', 'w', 'commenced', 'dower', 'count', 'signed', 'man', 'contrary', 'errors', 'train', 'satisfied', 'hearing', 'cited', 'presumption', 'testified', '000', 'rent', 'fourth', 'care', 'attachment', 'life', 'assessed', 'faith', 'merely', 'e', 'months', 'render', 'september', 'july', 'officers', 'valid', 'cook', 'regarded', 'east', 'reverse', 'convey', 'grant', 'requires', 'apply', 'respect', 'children', 'recovered', 'west', 'read', 'proceeds', 'long', 'levied', 'entire', 'seven', 'james', 'number', 'township', 'injunction', 'named', 'charter', 'line', 'william', 'powers', 'north', 'entry', 'equitable', 'redemption', 'thirty', 'widow', 'laid', 'prevent', 'credit', 'warrant', 'previous', 'dismissed', 'served']\n",
      "53562\n"
     ]
    },
    {
     "name": "stderr",
     "output_type": "stream",
     "text": [
      "/Users/boushey/anaconda/lib/python3.5/site-packages/gensim/matutils.py:737: FutureWarning: Conversion of the second argument of issubdtype from `int` to `np.signedinteger` is deprecated. In future, it will be treated as `np.int64 == np.dtype(int).type`.\n",
      "  if np.issubdtype(vec.dtype, np.int):\n"
     ]
    },
    {
     "data": {
      "text/plain": [
       "0.8570211"
      ]
     },
     "execution_count": 51,
     "metadata": {},
     "output_type": "execute_result"
    }
   ],
   "source": [
    "# don't print this, too long\n",
    "#model.wv.vocab\n",
    "\n",
    "# do this instead\n",
    "print(model.wv.index2word[:500])\n",
    "\n",
    "#print(model.wv.most_similar('laws'))\n",
    "#print(model.wv.most_similar('tyranny'))\n",
    "\n",
    "print(len(model.wv.vocab))\n",
    "\n",
    "model.wv.similarity('awful', 'distressing')"
   ]
  },
  {
   "cell_type": "code",
   "execution_count": 52,
   "metadata": {
    "collapsed": true
   },
   "outputs": [],
   "source": [
    "#Here are some phrases you might investigate through cosine similarity\n",
    "#Laws are like cobwebs, which may catch small flies, but let wasps and hornets break through. (Jonathan Swift)\n",
    "#Law is order, and good law is good order. (Aristotle)\n",
    "#A law is valuable, not because it is a law, but because there is right in it. (Edmund Burke)\n",
    "#Lawyers are the only persons in whom ignorance of the law is not punished. (Jeremy Bentham)\n",
    "#Law is a bottomless pit. (John Arbuthnot)\n",
    "#Law is not law, if it violates the principles of eternal justice. (LYDIA MARIA CHILD, speech, 1861)\n",
    "#Bad laws are the worst sort of tyranny. EDMUND BURKE, speech at Bristol previous to the election of 1780"
   ]
  },
  {
   "cell_type": "code",
   "execution_count": 53,
   "metadata": {
    "collapsed": true
   },
   "outputs": [],
   "source": [
    "# it would also be interesting to look into word similarities between different body of works (do the associations differ\n",
    "# between california, new york, illinois, federal?)"
   ]
  },
  {
   "cell_type": "code",
   "execution_count": 54,
   "metadata": {},
   "outputs": [
    {
     "name": "stderr",
     "output_type": "stream",
     "text": [
      "/Users/boushey/anaconda/lib/python3.5/site-packages/gensim/matutils.py:737: FutureWarning: Conversion of the second argument of issubdtype from `int` to `np.signedinteger` is deprecated. In future, it will be treated as `np.int64 == np.dtype(int).type`.\n",
      "  if np.issubdtype(vec.dtype, np.int):\n"
     ]
    },
    {
     "data": {
      "text/plain": [
       "[('mischief', 0.301006019115448),\n",
       " ('remedied', 0.28209587931632996),\n",
       " ('perpetration', 0.22305752336978912),\n",
       " ('obviate', 0.21766918897628784),\n",
       " ('oppression', 0.21488329768180847),\n",
       " ('perversion', 0.2088327407836914),\n",
       " ('perpetrated', 0.20768854022026062),\n",
       " ('interpose', 0.2053283154964447),\n",
       " ('certiorari', 0.20526215434074402),\n",
       " ('injustice', 0.20336689054965973)]"
      ]
     },
     "execution_count": 54,
     "metadata": {},
     "output_type": "execute_result"
    }
   ],
   "source": [
    "model.wv.most_similar(positive=['bad','evil'], negative=['bad','miserable'])"
   ]
  },
  {
   "cell_type": "code",
   "execution_count": 55,
   "metadata": {},
   "outputs": [
    {
     "name": "stderr",
     "output_type": "stream",
     "text": [
      "/Users/boushey/anaconda/lib/python3.5/site-packages/gensim/matutils.py:737: FutureWarning: Conversion of the second argument of issubdtype from `int` to `np.signedinteger` is deprecated. In future, it will be treated as `np.int64 == np.dtype(int).type`.\n",
      "  if np.issubdtype(vec.dtype, np.int):\n"
     ]
    },
    {
     "data": {
      "text/plain": [
       "['faith',\n",
       " 'bad',\n",
       " 'goodness',\n",
       " 'perfect',\n",
       " 'marketable',\n",
       " 'repute',\n",
       " 'ation',\n",
       " 'honesty',\n",
       " 'ás',\n",
       " 'purposo',\n",
       " 'utmost',\n",
       " 'behavior',\n",
       " 'assurance',\n",
       " 'shielded',\n",
       " 'sufficient',\n",
       " 'relying',\n",
       " 'faff',\n",
       " 'avarranty',\n",
       " 'staunch',\n",
       " 'itsell']"
      ]
     },
     "execution_count": 55,
     "metadata": {},
     "output_type": "execute_result"
    }
   ],
   "source": [
    "# removing certain vectors from an association\n",
    "good_words = model.wv.most_similar(positive=['good'], topn=20)\n",
    "good_words = [word for word, similarity in good_words]\n",
    "good_words"
   ]
  },
  {
   "cell_type": "code",
   "execution_count": 56,
   "metadata": {
    "collapsed": true
   },
   "outputs": [],
   "source": [
    "%matplotlib inline"
   ]
  },
  {
   "cell_type": "code",
   "execution_count": 57,
   "metadata": {},
   "outputs": [
    {
     "name": "stderr",
     "output_type": "stream",
     "text": [
      "/Users/boushey/anaconda/lib/python3.5/site-packages/gensim/matutils.py:737: FutureWarning: Conversion of the second argument of issubdtype from `int` to `np.signedinteger` is deprecated. In future, it will be treated as `np.int64 == np.dtype(int).type`.\n",
      "  if np.issubdtype(vec.dtype, np.int):\n"
     ]
    }
   ],
   "source": [
    "virtues_vices = ['courage', 'charity', 'honor', 'truth', 'honesty', \n",
    "                 'gluttony', 'greed', 'lust', 'cruelty', 'pride']\n",
    "\n",
    "bad_score = [model.wv.similarity(['bad'], word) for word in virtues_vices]\n",
    "good_score = [model.wv.similarity(['good'], word) for word in virtues_vices]"
   ]
  },
  {
   "cell_type": "code",
   "execution_count": 58,
   "metadata": {},
   "outputs": [
    {
     "data": {
      "image/png": "[encoded data removed]",
      "text/plain": [
       "<matplotlib.figure.Figure at 0x12eeabb70>"
      ]
     },
     "metadata": {},
     "output_type": "display_data"
    }
   ],
   "source": [
    "import matplotlib\n",
    "_, ax = plt.subplots(figsize=(20,20))\n",
    "ax.scatter(bad_score, good_score, alpha=1, color='b')\n",
    "for i in range(len(virtues_vices)):\n",
    "    ax.annotate(virtues_vices[i], (bad_score[i], good_score[i])).set_fontsize(16)\n",
    "ax.set_xlim(.25, 1.1)\n",
    "ax.set_ylim(.25, 1.1)\n",
    "ax.yaxis.label.set_fontsize(16)\n",
    "ax.xaxis.label.set_fontsize(16)\n",
    "plt.xlabel('bad score')\n",
    "plt.ylabel('good score')\n",
    "for item in (ax.get_xticklabels() + ax.get_yticklabels()):\n",
    "    item.set_fontsize(16)\n",
    "plt.plot([0, 1], [0, 1], linestyle='--');"
   ]
  },
  {
   "cell_type": "code",
   "execution_count": 59,
   "metadata": {},
   "outputs": [
    {
     "name": "stderr",
     "output_type": "stream",
     "text": [
      "/Users/boushey/anaconda/lib/python3.5/site-packages/gensim/matutils.py:737: FutureWarning: Conversion of the second argument of issubdtype from `int` to `np.signedinteger` is deprecated. In future, it will be treated as `np.int64 == np.dtype(int).type`.\n",
      "  if np.issubdtype(vec.dtype, np.int):\n"
     ]
    },
    {
     "data": {
      "text/plain": [
       "0.8570211"
      ]
     },
     "execution_count": 59,
     "metadata": {},
     "output_type": "execute_result"
    }
   ],
   "source": [
    "# how is cosine similarity created?\n",
    "# again, looking at\n",
    "model.wv.similarity('awful', 'distressing')"
   ]
  },
  {
   "cell_type": "code",
   "execution_count": 60,
   "metadata": {
    "collapsed": true
   },
   "outputs": [],
   "source": [
    "awful_vec = model.wv['awful']"
   ]
  },
  {
   "cell_type": "code",
   "execution_count": 61,
   "metadata": {
    "collapsed": true
   },
   "outputs": [],
   "source": [
    "distressing_vec = model.wv['distressing']"
   ]
  },
  {
   "cell_type": "code",
   "execution_count": 62,
   "metadata": {
    "collapsed": true
   },
   "outputs": [],
   "source": [
    "# doing the cosine similarity calc manually\n",
    "import numpy as np"
   ]
  },
  {
   "cell_type": "code",
   "execution_count": 63,
   "metadata": {},
   "outputs": [
    {
     "data": {
      "text/plain": [
       "0.8570211"
      ]
     },
     "execution_count": 63,
     "metadata": {},
     "output_type": "execute_result"
    }
   ],
   "source": [
    "np.dot(awful_vec, distressing_vec) / (np.linalg.norm(awful_vec) * np.linalg.norm(distressing_vec))"
   ]
  },
  {
   "cell_type": "code",
   "execution_count": 64,
   "metadata": {},
   "outputs": [
    {
     "data": {
      "text/plain": [
       "array([-0.31362852, -0.15847397,  0.13265887,  0.02189761,  0.14401945,\n",
       "        0.00924784,  0.02692908, -0.02083626,  0.3128171 , -0.02384561,\n",
       "       -0.25580886, -0.12553619,  0.09364942, -0.1271923 , -0.24882141,\n",
       "       -0.203848  , -0.02581852, -0.24249794,  0.18450122, -0.0648392 ,\n",
       "       -0.07264283,  0.0481397 ,  0.14497088,  0.15836714, -0.10166796,\n",
       "        0.12418229,  0.09610423, -0.21698225,  0.08069287,  0.03568811,\n",
       "       -0.23902005, -0.17888664, -0.06998954,  0.1342195 ,  0.07923318,\n",
       "        0.07407627,  0.02450543,  0.20889013,  0.02107553,  0.14399675,\n",
       "        0.19240142,  0.299914  ,  0.07505684, -0.08643586,  0.10644616,\n",
       "        0.34269246,  0.3065298 , -0.15828384, -0.14140767, -0.10417313,\n",
       "       -0.13052344, -0.04417381, -0.02129531,  0.1259869 ,  0.06576082,\n",
       "       -0.07259357, -0.08837488, -0.07071731,  0.05833337, -0.1302672 ,\n",
       "       -0.06527091,  0.01754004,  0.01010562, -0.12951575,  0.175798  ,\n",
       "        0.03040691,  0.2077844 , -0.00636132,  0.05888578,  0.10346402,\n",
       "        0.2780839 , -0.05616438,  0.27222428,  0.12558857,  0.22085539,\n",
       "        0.06819583, -0.08588757, -0.07535637, -0.04515915,  0.15431803,\n",
       "        0.04444688,  0.0278627 ,  0.14489315, -0.00358319,  0.12991622,\n",
       "       -0.06614254,  0.20643114,  0.13823348,  0.03945464, -0.09402944,\n",
       "        0.27209973,  0.06737936, -0.03174427,  0.06866622,  0.11962131,\n",
       "       -0.08432925,  0.03147578, -0.11624098, -0.06358004,  0.01502655],\n",
       "      dtype=float32)"
      ]
     },
     "execution_count": 64,
     "metadata": {},
     "output_type": "execute_result"
    }
   ],
   "source": [
    "awful_vec"
   ]
  },
  {
   "cell_type": "code",
   "execution_count": 65,
   "metadata": {},
   "outputs": [
    {
     "name": "stderr",
     "output_type": "stream",
     "text": [
      "/Users/boushey/anaconda/lib/python3.5/site-packages/gensim/matutils.py:737: FutureWarning: Conversion of the second argument of issubdtype from `int` to `np.signedinteger` is deprecated. In future, it will be treated as `np.int64 == np.dtype(int).type`.\n",
      "  if np.issubdtype(vec.dtype, np.int):\n"
     ]
    },
    {
     "data": {
      "text/plain": [
       "[('convicted', 0.49230676889419556),\n",
       " ('indicted', 0.3734748363494873),\n",
       " ('indictment', 0.3482024371623993),\n",
       " ('tennessee', 0.33730101585388184),\n",
       " ('spirituous', 0.3250056207180023),\n",
       " ('pardon', 0.30778151750564575),\n",
       " ('1789', 0.30282026529312134),\n",
       " ('reign', 0.30148452520370483),\n",
       " ('anne', 0.29383015632629395),\n",
       " ('naturalization', 0.2869228422641754)]"
      ]
     },
     "execution_count": 65,
     "metadata": {},
     "output_type": "execute_result"
    }
   ],
   "source": [
    "model.wv.similar_by_vector(model.wv['convicted'] - model.wv['guilty'])"
   ]
  },
  {
   "cell_type": "code",
   "execution_count": 66,
   "metadata": {
    "collapsed": true
   },
   "outputs": [],
   "source": [
    "import random"
   ]
  },
  {
   "cell_type": "code",
   "execution_count": 67,
   "metadata": {},
   "outputs": [
    {
     "name": "stderr",
     "output_type": "stream",
     "text": [
      "/Users/boushey/anaconda/lib/python3.5/site-packages/gensim/matutils.py:737: FutureWarning: Conversion of the second argument of issubdtype from `int` to `np.signedinteger` is deprecated. In future, it will be treated as `np.int64 == np.dtype(int).type`.\n",
      "  if np.issubdtype(vec.dtype, np.int):\n"
     ]
    },
    {
     "data": {
      "text/plain": [
       "[('favorable', 0.3906325101852417),\n",
       " ('inclination', 0.37863779067993164),\n",
       " ('touch', 0.3572250306606293),\n",
       " ('credence', 0.3544011116027832),\n",
       " ('credibility', 0.35403335094451904),\n",
       " ('inclines', 0.350077360868454),\n",
       " ('testimony', 0.34902697801589966),\n",
       " ('aspect', 0.343315064907074),\n",
       " ('contradictory', 0.34140124917030334),\n",
       " ('weight', 0.3293871283531189)]"
      ]
     },
     "execution_count": 67,
     "metadata": {},
     "output_type": "execute_result"
    }
   ],
   "source": [
    "# creating a random array of numbers from -1 to 1, using it to find closest words to \n",
    "# the random array. \n",
    "\n",
    "random_vector = [random.uniform(-1, 1) for i in range(100)]\n",
    "random_array = np.array(random_vector)\n",
    "\n",
    "model.wv.similar_by_vector(random_array)"
   ]
  }
 ],
 "metadata": {
  "kernelspec": {
   "display_name": "Python 3",
   "language": "python",
   "name": "python3"
  },
  "language_info": {
   "codemirror_mode": {
    "name": "ipython",
    "version": 3
   },
   "file_extension": ".py",
   "mimetype": "text/x-python",
   "name": "python",
   "nbconvert_exporter": "python",
   "pygments_lexer": "ipython3",
   "version": "3.5.4"
  }
 },
 "nbformat": 4,
 "nbformat_minor": 2
}
