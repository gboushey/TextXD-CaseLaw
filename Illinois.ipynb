{
 "cells": [
  {
   "cell_type": "markdown",
   "metadata": {},
   "source": [
    "## 1. Importing Libraries and Vocabulary"
   ]
  },
  {
   "cell_type": "code",
   "execution_count": 1,
   "metadata": {
    "collapsed": true
   },
   "outputs": [],
   "source": [
    "import json\n",
    "import gensim\n",
    "from gensim.parsing.preprocessing import remove_stopwords\n",
    "from gensim.parsing.preprocessing import strip_non_alphanum\n",
    "from nltk import word_tokenize\n",
    "import nltk\n",
    "import numpy as np"
   ]
  },
  {
   "cell_type": "code",
   "execution_count": 2,
   "metadata": {
    "collapsed": true
   },
   "outputs": [],
   "source": [
    "# you only need to do this once!\n",
    "# for this tutorial, I downloaded \"popular\", though I don't know if I could get away with something smaller\n",
    "#import nltk\n",
    "#nltk.download()"
   ]
  },
  {
   "cell_type": "markdown",
   "metadata": {},
   "source": [
    "## 2. Downloading Data\n",
    "\n",
    "The caselaw download is available at https://case.law\n",
    "\n",
    "Caselaw proves \"all official, book-published United States case law — every volume designated as an official report of decisions by a court within the United States.\" You might want to spend some time on the site getting more familar with the data and thinking how you might want to analyze it. \n",
    "\n",
    "Data is available as an API and as a bulk JSON or XML formatted download. Because we will be working with large numbers of records, we'll use the bulk download. Public downloads are avialable for Arkansas, Illinios, and New Mexico. This workshop will use the JSON format. \n",
    "\n",
    "https://case.law/bulk/download/\n",
    "\n",
    "To get the JSON formatted data, download the TEXT version (rather than the XML version). To extract the data, you'll need to first unzip the download file \"Illinois-20190416-text.zip\" (the exact name of this file contains a date stamp, yours may be different). The unzipped file will contain a \"data\" folder that contains a \"data.json.xz\" file, which is another compressed file. You'll need to unpack this file - one way is to use the xz utility. \n",
    "\n",
    "%: xz -d data.jsonl.xz\n",
    "\n",
    "You can work with it using the json library in python. For this workshop, I renamed it illinois_data.json1 and put it in a folder named caselaw_data, since I plan to work with data from other states as it becomes available. "
   ]
  },
  {
   "cell_type": "markdown",
   "metadata": {},
   "source": [
    "## 3. Importing Data\n",
    "\n",
    "In the next step, we'll read the data into a list using the json library. One thing to keep in mind here is that the file is very large and will likely overwhelm your laptop. You may eventually want to move to a cluster to process larger amounts of data. For now, let's limit the number of rows to 1000 to get the code up and running. We can increase it later. Keep in mind, the data may be chronologically ordered, so the first 1000 is not a random sampling of this data!"
   ]
  },
  {
   "cell_type": "code",
   "execution_count": 3,
   "metadata": {
    "collapsed": true
   },
   "outputs": [],
   "source": [
    "# on my mac powerbook, the program slows considerably when I process above 10,000-20,000 records\n",
    "# I'd recommend starting with 1,000 or fewer records to get the code running. Then increase it.\n",
    "# eventually, you may want to run this on a cluster (which would make for a good future workshop topic)\n",
    "\n",
    "max_records = 20000\n",
    "\n",
    "data = []\n",
    "with open('caselaw_data/illinois_data.jsonl') as f:\n",
    "    for i, line in enumerate(f):\n",
    "        data.append(json.loads(line))\n",
    "        #if i % 1000 == 0:\n",
    "        #    print(i, \"processed\")\n",
    "        # set max of 10,000 rows for now, increase or remove this to get the entire data set\n",
    "        if i > max_records:\n",
    "            break"
   ]
  },
  {
   "cell_type": "markdown",
   "metadata": {},
   "source": [
    "The approach to parsing a \"jsonl\" differs slightly from parsing a single JSON document - in the jsonl format, each row containes a line object representing a JSON document. Here's the first one..."
   ]
  },
  {
   "cell_type": "code",
   "execution_count": 4,
   "metadata": {},
   "outputs": [
    {
     "data": {
      "text/plain": [
       "{'casebody': {'data': {'attorneys': ['Michael Ratliff-El, of Pontiac, appellant pro se.',\n",
       "    'Lisa Madigan, Attorney General, of Chicago (Joel D. Bertocchi, Solicitor General, and Richard S. Huszagh, Assistant Attorney General, of counsel), for appellee.'],\n",
       "   'head_matter': 'MICHAEL RATLIFF-EL, Plaintiff-Appellant, v. KENNETH R. BRILEY, Defendant-Appellee.\\nThird District\\nNo. 3—01—0727\\nOpinion filed May 2, 2003.\\nMichael Ratliff-El, of Pontiac, appellant pro se.\\nLisa Madigan, Attorney General, of Chicago (Joel D. Bertocchi, Solicitor General, and Richard S. Huszagh, Assistant Attorney General, of counsel), for appellee.',\n",
       "   'judges': [],\n",
       "   'opinions': [{'author': 'PRESIDING JUSTICE McDADE',\n",
       "     'text': 'PRESIDING JUSTICE McDADE\\ndelivered the opinion of the court:\\nMichael Ratliff-El filed a complaint for mandamus relief (735 ILCS 5/14 — 101 et seq. (West 2000)) naming Kenneth R. Briley, warden of the Stateville Correctional Center, as the defendant. The trial court granted the defendant’s motion to dismiss under section 2 — 615 of the Code of Civil Procedure (735 ILCS 5/2 — 615 (West 2000)). On appeal, Ratliff-El argues that the trial court erred by dismissing his complaint because it stated a cause of action for mandamus relief. We affirm.\\nBACKGROUND\\nRatliff-El is a prisoner at Stateville. In his complaint, Ratliff-El contended that the defendant had a clear duty to follow the Illinois Administrative Procedure Act (Act) (5 ILCS 100/1 — 1 et seq. (West 2000)) during adjustment committee and grievance proceedings at Stateville. As a result of such proceedings, Ratliff-El had been disciplined with revocation of good-time credits. Ratliff-El submitted that he was entitled to mandamus relief because the defendant had failed to follow Act procedures. He also alleged that the defendant’s failure to follow Act procedures violated his “rights.”\\nThe defendant filed a section 2 — 615 motion to dismiss Ratliff-El’s mandamus complaint for failure to state a cause of action. In his motion to dismiss, the defendant argued that the Act does not apply to adjustment committee and grievance proceedings conducted by the Department of Corrections (DOC). The trial court granted the defendant’s motion to dismiss and Ratliff-El appealed.\\nANALYSIS\\nMotion to Dismiss Mandamus Action\\nA. DOC Duty to Follow Act Procedures\\nRatliff-El argues that a state agency must follow Act procedures in “contested cases.” He reasons that because the DOC is a state agency, and adjustment committee and grievance proceedings meet the statutory definition of “contested cases,” the defendant has a clear duty to follow Act procedures in DOC adjustment committee and grievance proceedings. He contends that the trial court erred in granting the defendant’s motion to dismiss his mandamus cause of action.\\nThe defendant asserts that the Act contains a “grandfathering” clause (5 ILCS 100/1 — 5(a) (West 2000)) which exempts a state agency from using Act procedures when the agency had adjudicatory hearing rules in place on July 1, 1977. The defendant contends that the DOC had such adjudicatory hearing rules in place prior to July 1, 1977. The defendant submits that because the Act does not apply to DOC adjustment committee and grievance proceedings, the defendant has no duty to follow Act procedures. The defendant concludes, therefore, that Ratliff-El did not state a cause of action for mandamus relief. We agree with the defendant.\\nA section 2 — 615 motion to dismiss attacks the legal sufficiency of a complaint and presents the issue of whether the complaint states a cause of action upon which relief can be granted. 735 ILCS 5/2 — 615 (West 2000); Weiss v. Waterhouse Securities, Inc., 335 Ill. App. 3d 875, 781 N.E.2d 1105 (2002). The standard of review for granting a section 2 — 615 motion to dismiss is de novo. Krilich v. American National Bank & Trust Co. of Chicago, 334 Ill. App. 3d 563, 778 N.E.2d 1153 (2002).\\nA writ of mandamus is an extraordinary remedy that may be used only to compel a public official to perform a nondiscretionary ministerial duty. Caruth v. Quinley, 333 Ill. App. 3d 94, 775 N.E.2d 224 (2002). A complaint seeking a writ of mandamus must allege facts that establish (1) a clear right to the relief requested; (2) a clear duty of the defendant to act; and (3) the clear authority of the defendant to comply with the writ. Southern & Central Illinois Laborers’ District Council v. Illinois Health Facilities Planning Board, 331 Ill. App. 3d 1112, 772 N.E.2d 980 (2002).\\nSection 1 — 5(a) of the Act states as follows:\\n“[The Act] applies to every agency as defined in [this act]. Beginning January 1, 1978, in case of conflict between the provisions of [the Act] and the Act creating or conferring power on an agency, [this act] shall control. If, however, an agency *** has existing procedures on July 1, 1977, specifically for contested cases ***, those existing provisions control, except that this exception respecting contested cases *** does not apply if the Act creating or conferring power on the agency adopts by express reference the provisions of [this act]. Where the Act creating or conferring power on an agency establishes administrative procedures not covered by [this act], those procedures shall remain in effect.” 5 ILCS 100/1— 5(a) (West 2000).\\nIt is uncontested that (1) the DOC is an “agency,” and (2) adjustment committee and grievance proceedings are “contested cases,” as defined by the Act. See 5 ILCS 100/1 — 20, 1 — 30 (West 2000). The DOC had procedures in place on July 1, 1977, specifically for “contested cases.” See, e.g., Adm. Reg., Department of Corrections § 804, at 2 (eff. June 18, 1976) (concerning adjustment committee hearing procedures). These DOC procedures continue to be in place under the Illinois Administrative Code. See 20 111. Adm. Code § 504.80 (2003).\\nThe Unified Code of Corrections (Code) (730 ILCS 5/1 — 1—1 et seq. (West 2000)) is the Act that confers power on the DOC. 730 ILCS 5/3 — 2—2 (West 2000). The Code has not adopted the provisions of the Act by express reference. Furthermore, the Code established administrative procedures for the DOC, not covered by the Act, before July 1, 1977. See, e.g., Pub. Act 77 — 2097, eff. January 1, 1973 (creating, inter alia, disciplinary and grievance procedures). These procedures now are under sections 3 — 8—7 and 3 — 8—8 of the Code. 730 ILCS 5/3— 8 — 7, 3 — 8—8 (West 2000).\\nUnder section 1 — 5(a) of the Act, DOC adjustment committee and grievance procedures are not controlled by the Act. Because the defendant did not have a duty to follow Act procedures, Ratliff-El’s complaint did not state a cause of action for mandamus relief.\\nB. Due Process\\nRatliff-El contends that he is entitled to mandamus relief because the defendant violated his due process rights by failing to follow Act procedures.\\nMandamus is an appropriate remedy to compel the DOC to conduct disciplinary hearings consistent with due process. Thompson v. Lane, 194 Ill. App. 3d 855, 551 N.E.2d 731 (1990).\\nIn this case, we determined that the DOC does not have a duty to conduct disciplinary hearings under Act procedures. The defendant did not violate the plaintiffs due process rights by failing to follow Act procedures.\\nRatliff-El was not entitled to mandamus relief based on either (1) the defendant’s failure to follow Act procedures or (2) a violation of his due process rights. Therefore, the trial court did not err as a matter of law by granting the defendant’s section 2 — 615 motion to dismiss.\\nCONCLUSION\\nFor the foregoing reasons, we affirm the judgment of the Will County circuit court granting the defendant’s motion to dismiss Ratliff-El’s mandamus action.\\nAffirmed.\\nSCHMIDT and LYTTON, JJ., concur.',\n",
       "     'type': 'majority'}],\n",
       "   'parties': ['MICHAEL RATLIFF-EL, Plaintiff-Appellant, v. KENNETH R. BRILEY, Defendant-Appellee.']},\n",
       "  'status': 'ok'},\n",
       " 'citations': [{'cite': '338 Ill. App. 3d 1070', 'type': 'official'}],\n",
       " 'court': {'id': 8837,\n",
       "  'jurisdiction_url': None,\n",
       "  'name': 'Illinois Appellate Court',\n",
       "  'name_abbreviation': 'Ill. App. Ct.',\n",
       "  'slug': 'ill-app-ct'},\n",
       " 'decision_date': '2003-05-02',\n",
       " 'docket_number': 'No. 3-01-0727',\n",
       " 'first_page': '1070',\n",
       " 'id': 25332,\n",
       " 'jurisdiction': {'id': 29,\n",
       "  'name': 'Ill.',\n",
       "  'name_long': 'Illinois',\n",
       "  'slug': 'ill',\n",
       "  'whitelisted': True},\n",
       " 'last_page': '1074',\n",
       " 'name': 'MICHAEL RATLIFF-EL, Plaintiff-Appellant, v. KENNETH R. BRILEY, Defendant-Appellee',\n",
       " 'name_abbreviation': 'Ratliff-El v. Briley',\n",
       " 'reporter': {'full_name': 'Illinois Appellate Court Reports, Third Series'},\n",
       " 'volume': {'volume_number': '338'}}"
      ]
     },
     "execution_count": 4,
     "metadata": {},
     "output_type": "execute_result"
    }
   ],
   "source": [
    "data[0]"
   ]
  },
  {
   "cell_type": "markdown",
   "metadata": {},
   "source": [
    "The JSON libary in python stores each document as a dictionary object type"
   ]
  },
  {
   "cell_type": "code",
   "execution_count": 5,
   "metadata": {},
   "outputs": [
    {
     "data": {
      "text/plain": [
       "dict"
      ]
     },
     "execution_count": 5,
     "metadata": {},
     "output_type": "execute_result"
    }
   ],
   "source": [
    "type(data[0])"
   ]
  },
  {
   "cell_type": "markdown",
   "metadata": {},
   "source": [
    "## 4. Extracting and Cleaning Data\n",
    "\n",
    "For this workshop, we'll work only with the text of the court decision. If you're interested in other fields, you can expand the loop below to extract other elements of the JSON document.\n",
    "\n",
    "The exact strategy you employ to clean data can be very dependent on the type of analysis you want to do. This workshop will cover a few common strategies:\n",
    "\n",
    "* removing non alphanumeric characters\n",
    "* removing common stop words\n",
    "* removing very short or long words\n",
    "* removing purely numerical data\n",
    "* removing words that are not in a particular corpus (such as the oxford english dictionary)\n",
    "\n",
    "Again, these are common techniques, but depending on your study and data, they may not be necessary or even advisable. The strategy you take will emerge from your data and the type of analysis you plan to do.\n"
   ]
  },
  {
   "cell_type": "markdown",
   "metadata": {},
   "source": [
    "### Removing non alphanumeric characters\n",
    "\n",
    "This loop uses the gemsin library to strip non alphanumeric characters. It also collapses multiple spaces into a single space."
   ]
  },
  {
   "cell_type": "code",
   "execution_count": 6,
   "metadata": {
    "collapsed": true
   },
   "outputs": [],
   "source": [
    "tokenized_sentences = []\n",
    "        \n",
    "opinion_texts = []\n",
    "for i in range(len(data)):\n",
    "    if data[i]['casebody']['data']['opinions']:\n",
    "        text = data[i]['casebody']['data']['opinions'][0]['text'].lower()\n",
    "        text = strip_non_alphanum(text)\n",
    "        opinion_texts.append(' '.join(text.split()))\n",
    "       "
   ]
  },
  {
   "cell_type": "markdown",
   "metadata": {},
   "source": [
    "Here's the output from the first record. Take a look at this as compared to the text from the raw JSON file. Non alphanumeric characters are gone, but you can still read the text and understand what it means. However, you may already be able to see how cleaning data can result in loss of precision.\n",
    "\n",
    "As an exercise, take a look at the original document and consider if there are any terms you'd be interested in preserving that may be lost through the data transformation here. "
   ]
  },
  {
   "cell_type": "code",
   "execution_count": 7,
   "metadata": {},
   "outputs": [
    {
     "data": {
      "text/plain": [
       "'presiding justice mcdade delivered the opinion of the court michael ratliff el filed a complaint for mandamus relief 735 ilcs 5 14 101 et seq west 2000 naming kenneth r briley warden of the stateville correctional center as the defendant the trial court granted the defendant s motion to dismiss under section 2 615 of the code of civil procedure 735 ilcs 5 2 615 west 2000 on appeal ratliff el argues that the trial court erred by dismissing his complaint because it stated a cause of action for mandamus relief we affirm background ratliff el is a prisoner at stateville in his complaint ratliff el contended that the defendant had a clear duty to follow the illinois administrative procedure act act 5 ilcs 100 1 1 et seq west 2000 during adjustment committee and grievance proceedings at stateville as a result of such proceedings ratliff el had been disciplined with revocation of good time credits ratliff el submitted that he was entitled to mandamus relief because the defendant had failed to follow act procedures he also alleged that the defendant s failure to follow act procedures violated his rights the defendant filed a section 2 615 motion to dismiss ratliff el s mandamus complaint for failure to state a cause of action in his motion to dismiss the defendant argued that the act does not apply to adjustment committee and grievance proceedings conducted by the department of corrections doc the trial court granted the defendant s motion to dismiss and ratliff el appealed analysis motion to dismiss mandamus action a doc duty to follow act procedures ratliff el argues that a state agency must follow act procedures in contested cases he reasons that because the doc is a state agency and adjustment committee and grievance proceedings meet the statutory definition of contested cases the defendant has a clear duty to follow act procedures in doc adjustment committee and grievance proceedings he contends that the trial court erred in granting the defendant s motion to dismiss his mandamus cause of action the defendant asserts that the act contains a grandfathering clause 5 ilcs 100 1 5 a west 2000 which exempts a state agency from using act procedures when the agency had adjudicatory hearing rules in place on july 1 1977 the defendant contends that the doc had such adjudicatory hearing rules in place prior to july 1 1977 the defendant submits that because the act does not apply to doc adjustment committee and grievance proceedings the defendant has no duty to follow act procedures the defendant concludes therefore that ratliff el did not state a cause of action for mandamus relief we agree with the defendant a section 2 615 motion to dismiss attacks the legal sufficiency of a complaint and presents the issue of whether the complaint states a cause of action upon which relief can be granted 735 ilcs 5 2 615 west 2000 weiss v waterhouse securities inc 335 ill app 3d 875 781 n e 2d 1105 2002 the standard of review for granting a section 2 615 motion to dismiss is de novo krilich v american national bank trust co of chicago 334 ill app 3d 563 778 n e 2d 1153 2002 a writ of mandamus is an extraordinary remedy that may be used only to compel a public official to perform a nondiscretionary ministerial duty caruth v quinley 333 ill app 3d 94 775 n e 2d 224 2002 a complaint seeking a writ of mandamus must allege facts that establish 1 a clear right to the relief requested 2 a clear duty of the defendant to act and 3 the clear authority of the defendant to comply with the writ southern central illinois laborers district council v illinois health facilities planning board 331 ill app 3d 1112 772 n e 2d 980 2002 section 1 5 a of the act states as follows the act applies to every agency as defined in this act beginning january 1 1978 in case of conflict between the provisions of the act and the act creating or conferring power on an agency this act shall control if however an agency has existing procedures on july 1 1977 specifically for contested cases those existing provisions control except that this exception respecting contested cases does not apply if the act creating or conferring power on the agency adopts by express reference the provisions of this act where the act creating or conferring power on an agency establishes administrative procedures not covered by this act those procedures shall remain in effect 5 ilcs 100 1 5 a west 2000 it is uncontested that 1 the doc is an agency and 2 adjustment committee and grievance proceedings are contested cases as defined by the act see 5 ilcs 100 1 20 1 30 west 2000 the doc had procedures in place on july 1 1977 specifically for contested cases see e g adm reg department of corrections 804 at 2 eff june 18 1976 concerning adjustment committee hearing procedures these doc procedures continue to be in place under the illinois administrative code see 20 111 adm code 504 80 2003 the unified code of corrections code 730 ilcs 5 1 1 1 et seq west 2000 is the act that confers power on the doc 730 ilcs 5 3 2 2 west 2000 the code has not adopted the provisions of the act by express reference furthermore the code established administrative procedures for the doc not covered by the act before july 1 1977 see e g pub act 77 2097 eff january 1 1973 creating inter alia disciplinary and grievance procedures these procedures now are under sections 3 8 7 and 3 8 8 of the code 730 ilcs 5 3 8 7 3 8 8 west 2000 under section 1 5 a of the act doc adjustment committee and grievance procedures are not controlled by the act because the defendant did not have a duty to follow act procedures ratliff el s complaint did not state a cause of action for mandamus relief b due process ratliff el contends that he is entitled to mandamus relief because the defendant violated his due process rights by failing to follow act procedures mandamus is an appropriate remedy to compel the doc to conduct disciplinary hearings consistent with due process thompson v lane 194 ill app 3d 855 551 n e 2d 731 1990 in this case we determined that the doc does not have a duty to conduct disciplinary hearings under act procedures the defendant did not violate the plaintiffs due process rights by failing to follow act procedures ratliff el was not entitled to mandamus relief based on either 1 the defendant s failure to follow act procedures or 2 a violation of his due process rights therefore the trial court did not err as a matter of law by granting the defendant s section 2 615 motion to dismiss conclusion for the foregoing reasons we affirm the judgment of the will county circuit court granting the defendant s motion to dismiss ratliff el s mandamus action affirmed schmidt and lytton jj concur'"
      ]
     },
     "execution_count": 7,
     "metadata": {},
     "output_type": "execute_result"
    }
   ],
   "source": [
    "opinion_texts[0]"
   ]
  },
  {
   "cell_type": "markdown",
   "metadata": {},
   "source": [
    "### Remove stopwords\n",
    "\n",
    "The above text still contains a large number of \"stop words\", common words that may not too ubiquitous to be useful (emphasis on the *may*). Words like \"a\", \"they\", \"and\" increase the word count and require extra processing time and computing resources, and may not be helpful in your analysis. \n",
    "\n",
    "The loop below uses the gensim utility to remove common stopwords"
   ]
  },
  {
   "cell_type": "code",
   "execution_count": 8,
   "metadata": {
    "collapsed": true
   },
   "outputs": [],
   "source": [
    "for i in range(len(opinion_texts)):\n",
    "    opinion_texts[i] = remove_stopwords(opinion_texts[i])"
   ]
  },
  {
   "cell_type": "code",
   "execution_count": 9,
   "metadata": {},
   "outputs": [
    {
     "data": {
      "text/plain": [
       "'presiding justice mcdade delivered opinion court michael ratliff el filed complaint mandamus relief 735 ilcs 5 14 101 et seq west 2000 naming kenneth r briley warden stateville correctional center defendant trial court granted defendant s motion dismiss section 2 615 code civil procedure 735 ilcs 5 2 615 west 2000 appeal ratliff el argues trial court erred dismissing complaint stated cause action mandamus relief affirm background ratliff el prisoner stateville complaint ratliff el contended defendant clear duty follow illinois administrative procedure act act 5 ilcs 100 1 1 et seq west 2000 adjustment committee grievance proceedings stateville result proceedings ratliff el disciplined revocation good time credits ratliff el submitted entitled mandamus relief defendant failed follow act procedures alleged defendant s failure follow act procedures violated rights defendant filed section 2 615 motion dismiss ratliff el s mandamus complaint failure state cause action motion dismiss defendant argued act apply adjustment committee grievance proceedings conducted department corrections doc trial court granted defendant s motion dismiss ratliff el appealed analysis motion dismiss mandamus action doc duty follow act procedures ratliff el argues state agency follow act procedures contested cases reasons doc state agency adjustment committee grievance proceedings meet statutory definition contested cases defendant clear duty follow act procedures doc adjustment committee grievance proceedings contends trial court erred granting defendant s motion dismiss mandamus cause action defendant asserts act contains grandfathering clause 5 ilcs 100 1 5 west 2000 exempts state agency act procedures agency adjudicatory hearing rules place july 1 1977 defendant contends doc adjudicatory hearing rules place prior july 1 1977 defendant submits act apply doc adjustment committee grievance proceedings defendant duty follow act procedures defendant concludes ratliff el state cause action mandamus relief agree defendant section 2 615 motion dismiss attacks legal sufficiency complaint presents issue complaint states cause action relief granted 735 ilcs 5 2 615 west 2000 weiss v waterhouse securities 335 ill app 3d 875 781 n e 2d 1105 2002 standard review granting section 2 615 motion dismiss novo krilich v american national bank trust chicago 334 ill app 3d 563 778 n e 2d 1153 2002 writ mandamus extraordinary remedy compel public official perform nondiscretionary ministerial duty caruth v quinley 333 ill app 3d 94 775 n e 2d 224 2002 complaint seeking writ mandamus allege facts establish 1 clear right relief requested 2 clear duty defendant act 3 clear authority defendant comply writ southern central illinois laborers district council v illinois health facilities planning board 331 ill app 3d 1112 772 n e 2d 980 2002 section 1 5 act states follows act applies agency defined act beginning january 1 1978 case conflict provisions act act creating conferring power agency act shall control agency existing procedures july 1 1977 specifically contested cases existing provisions control exception respecting contested cases apply act creating conferring power agency adopts express reference provisions act act creating conferring power agency establishes administrative procedures covered act procedures shall remain effect 5 ilcs 100 1 5 west 2000 uncontested 1 doc agency 2 adjustment committee grievance proceedings contested cases defined act 5 ilcs 100 1 20 1 30 west 2000 doc procedures place july 1 1977 specifically contested cases e g adm reg department corrections 804 2 eff june 18 1976 concerning adjustment committee hearing procedures doc procedures continue place illinois administrative code 20 111 adm code 504 80 2003 unified code corrections code 730 ilcs 5 1 1 1 et seq west 2000 act confers power doc 730 ilcs 5 3 2 2 west 2000 code adopted provisions act express reference furthermore code established administrative procedures doc covered act july 1 1977 e g pub act 77 2097 eff january 1 1973 creating inter alia disciplinary grievance procedures procedures sections 3 8 7 3 8 8 code 730 ilcs 5 3 8 7 3 8 8 west 2000 section 1 5 act doc adjustment committee grievance procedures controlled act defendant duty follow act procedures ratliff el s complaint state cause action mandamus relief b process ratliff el contends entitled mandamus relief defendant violated process rights failing follow act procedures mandamus appropriate remedy compel doc conduct disciplinary hearings consistent process thompson v lane 194 ill app 3d 855 551 n e 2d 731 1990 case determined doc duty conduct disciplinary hearings act procedures defendant violate plaintiffs process rights failing follow act procedures ratliff el entitled mandamus relief based 1 defendant s failure follow act procedures 2 violation process rights trial court err matter law granting defendant s section 2 615 motion dismiss conclusion foregoing reasons affirm judgment county circuit court granting defendant s motion dismiss ratliff el s mandamus action affirmed schmidt lytton jj concur'"
      ]
     },
     "execution_count": 9,
     "metadata": {},
     "output_type": "execute_result"
    }
   ],
   "source": [
    "opinion_texts[0]"
   ]
  },
  {
   "cell_type": "markdown",
   "metadata": {},
   "source": [
    "### Remove very long or short words, Remove purely numerical data\n",
    "\n",
    "The text still contains a large number of short or purely numeric characters. These may or may not contain valuable information - for now, we'll remove them. "
   ]
  },
  {
   "cell_type": "code",
   "execution_count": 10,
   "metadata": {
    "collapsed": true
   },
   "outputs": [],
   "source": [
    "for i in range(len(opinion_texts)):\n",
    "    opinion_texts[i] = ' '.join([s for s in opinion_texts[i].split() if not (len(s) < 2 or s.isdigit() == True)])"
   ]
  },
  {
   "cell_type": "code",
   "execution_count": 11,
   "metadata": {},
   "outputs": [
    {
     "data": {
      "text/plain": [
       "'presiding justice mcdade delivered opinion court michael ratliff el filed complaint mandamus relief ilcs et seq west naming kenneth briley warden stateville correctional center defendant trial court granted defendant motion dismiss section code civil procedure ilcs west appeal ratliff el argues trial court erred dismissing complaint stated cause action mandamus relief affirm background ratliff el prisoner stateville complaint ratliff el contended defendant clear duty follow illinois administrative procedure act act ilcs et seq west adjustment committee grievance proceedings stateville result proceedings ratliff el disciplined revocation good time credits ratliff el submitted entitled mandamus relief defendant failed follow act procedures alleged defendant failure follow act procedures violated rights defendant filed section motion dismiss ratliff el mandamus complaint failure state cause action motion dismiss defendant argued act apply adjustment committee grievance proceedings conducted department corrections doc trial court granted defendant motion dismiss ratliff el appealed analysis motion dismiss mandamus action doc duty follow act procedures ratliff el argues state agency follow act procedures contested cases reasons doc state agency adjustment committee grievance proceedings meet statutory definition contested cases defendant clear duty follow act procedures doc adjustment committee grievance proceedings contends trial court erred granting defendant motion dismiss mandamus cause action defendant asserts act contains grandfathering clause ilcs west exempts state agency act procedures agency adjudicatory hearing rules place july defendant contends doc adjudicatory hearing rules place prior july defendant submits act apply doc adjustment committee grievance proceedings defendant duty follow act procedures defendant concludes ratliff el state cause action mandamus relief agree defendant section motion dismiss attacks legal sufficiency complaint presents issue complaint states cause action relief granted ilcs west weiss waterhouse securities ill app 3d 2d standard review granting section motion dismiss novo krilich american national bank trust chicago ill app 3d 2d writ mandamus extraordinary remedy compel public official perform nondiscretionary ministerial duty caruth quinley ill app 3d 2d complaint seeking writ mandamus allege facts establish clear right relief requested clear duty defendant act clear authority defendant comply writ southern central illinois laborers district council illinois health facilities planning board ill app 3d 2d section act states follows act applies agency defined act beginning january case conflict provisions act act creating conferring power agency act shall control agency existing procedures july specifically contested cases existing provisions control exception respecting contested cases apply act creating conferring power agency adopts express reference provisions act act creating conferring power agency establishes administrative procedures covered act procedures shall remain effect ilcs west uncontested doc agency adjustment committee grievance proceedings contested cases defined act ilcs west doc procedures place july specifically contested cases adm reg department corrections eff june concerning adjustment committee hearing procedures doc procedures continue place illinois administrative code adm code unified code corrections code ilcs et seq west act confers power doc ilcs west code adopted provisions act express reference furthermore code established administrative procedures doc covered act july pub act eff january creating inter alia disciplinary grievance procedures procedures sections code ilcs west section act doc adjustment committee grievance procedures controlled act defendant duty follow act procedures ratliff el complaint state cause action mandamus relief process ratliff el contends entitled mandamus relief defendant violated process rights failing follow act procedures mandamus appropriate remedy compel doc conduct disciplinary hearings consistent process thompson lane ill app 3d 2d case determined doc duty conduct disciplinary hearings act procedures defendant violate plaintiffs process rights failing follow act procedures ratliff el entitled mandamus relief based defendant failure follow act procedures violation process rights trial court err matter law granting defendant section motion dismiss conclusion foregoing reasons affirm judgment county circuit court granting defendant motion dismiss ratliff el mandamus action affirmed schmidt lytton jj concur'"
      ]
     },
     "execution_count": 11,
     "metadata": {},
     "output_type": "execute_result"
    }
   ],
   "source": [
    "opinion_texts[0]"
   ]
  },
  {
   "cell_type": "markdown",
   "metadata": {},
   "source": [
    "### Removing words that are not in a particular corpus (such as the oxford english dictionary)\n",
    "\n",
    "You may have noticed that there are a number of words such as \"jj\" above that are nor part of the standard english language. These may be the result of data cleaning (such as artifacts of markup language). They may also be the result of legal language or other important data. As always, cleaning data is a decision you make that may or may not be necessary or desirable. "
   ]
  },
  {
   "cell_type": "code",
   "execution_count": 12,
   "metadata": {},
   "outputs": [],
   "source": [
    "words = set(nltk.corpus.words.words())\n",
    "\n",
    "for i in range(len(opinion_texts)):\n",
    "    opinion_texts[i] = ' '.join([s for s in opinion_texts[i].split() if s in words])"
   ]
  },
  {
   "cell_type": "code",
   "execution_count": 13,
   "metadata": {},
   "outputs": [
    {
     "data": {
      "text/plain": [
       "'justice opinion court el complaint mandamus relief west naming warden correctional center defendant trial court defendant motion dismiss section code civil procedure west appeal el trial court complaint stated cause action mandamus relief affirm background el prisoner complaint el defendant clear duty follow administrative procedure act act west adjustment committee grievance result el revocation good time el mandamus relief defendant follow act defendant failure follow act defendant section motion dismiss el mandamus complaint failure state cause action motion dismiss defendant act apply adjustment committee grievance department doc trial court defendant motion dismiss el analysis motion dismiss mandamus action doc duty follow act el state agency follow act doc state agency adjustment committee grievance meet statutory definition defendant clear duty follow act doc adjustment committee grievance trial court defendant motion dismiss mandamus cause action defendant act clause west state agency act agency hearing place defendant doc hearing place prior defendant act apply doc adjustment committee grievance defendant duty follow act defendant el state cause action mandamus relief agree defendant section motion dismiss legal sufficiency complaint issue complaint cause action relief west ill standard review section motion dismiss national bank trust ill writ mandamus extraordinary remedy compel public official perform nondiscretionary ministerial duty ill complaint seeking writ mandamus allege establish clear right relief clear duty defendant act clear authority defendant comply writ southern central district council health board ill section act act agency defined act beginning case conflict act act power agency act shall control agency specifically control exception respecting apply act power agency express reference act act power agency administrative covered act shall remain effect west uncontested doc agency adjustment committee grievance defined act west doc place specifically reg department june concerning adjustment committee hearing doc continue place administrative code code unified code code west act power doc west code adopted act express reference furthermore code established administrative doc covered act pub act inter disciplinary grievance code west section act doc adjustment committee grievance act defendant duty follow act el complaint state cause action mandamus relief process el mandamus relief defendant process failing follow act mandamus appropriate remedy compel doc conduct disciplinary consistent process lane ill case determined doc duty conduct disciplinary act defendant violate process failing follow act el mandamus relief based defendant failure follow act violation process trial court err matter law defendant section motion dismiss conclusion foregoing affirm judgment county circuit court defendant motion dismiss el mandamus action concur'"
      ]
     },
     "execution_count": 13,
     "metadata": {},
     "output_type": "execute_result"
    }
   ],
   "source": [
    "opinion_texts[0]"
   ]
  },
  {
   "cell_type": "markdown",
   "metadata": {},
   "source": [
    "## 5. Tokenize the sentences\n",
    "\n",
    "We've cleaned the data, but it is still stored in large blocks of text. The next step, *tokenization*, will convert each line into a list of individual words. "
   ]
  },
  {
   "cell_type": "code",
   "execution_count": 14,
   "metadata": {},
   "outputs": [],
   "source": [
    "tokenized_sentences = [] \n",
    "for text in opinion_texts:\n",
    "    tokenized_sentences.append(word_tokenize(text))"
   ]
  },
  {
   "cell_type": "code",
   "execution_count": 15,
   "metadata": {},
   "outputs": [
    {
     "data": {
      "text/plain": [
       "['justice',\n",
       " 'opinion',\n",
       " 'court',\n",
       " 'el',\n",
       " 'complaint',\n",
       " 'mandamus',\n",
       " 'relief',\n",
       " 'west',\n",
       " 'naming',\n",
       " 'warden',\n",
       " 'correctional',\n",
       " 'center',\n",
       " 'defendant',\n",
       " 'trial',\n",
       " 'court',\n",
       " 'defendant',\n",
       " 'motion',\n",
       " 'dismiss',\n",
       " 'section',\n",
       " 'code',\n",
       " 'civil',\n",
       " 'procedure',\n",
       " 'west',\n",
       " 'appeal',\n",
       " 'el',\n",
       " 'trial',\n",
       " 'court',\n",
       " 'complaint',\n",
       " 'stated',\n",
       " 'cause',\n",
       " 'action',\n",
       " 'mandamus',\n",
       " 'relief',\n",
       " 'affirm',\n",
       " 'background',\n",
       " 'el',\n",
       " 'prisoner',\n",
       " 'complaint',\n",
       " 'el',\n",
       " 'defendant',\n",
       " 'clear',\n",
       " 'duty',\n",
       " 'follow',\n",
       " 'administrative',\n",
       " 'procedure',\n",
       " 'act',\n",
       " 'act',\n",
       " 'west',\n",
       " 'adjustment',\n",
       " 'committee']"
      ]
     },
     "execution_count": 15,
     "metadata": {},
     "output_type": "execute_result"
    }
   ],
   "source": [
    "tokenized_sentences[0][:50]"
   ]
  },
  {
   "cell_type": "markdown",
   "metadata": {},
   "source": [
    "## 6. Fitting/Training a Model"
   ]
  },
  {
   "cell_type": "code",
   "execution_count": 16,
   "metadata": {
    "collapsed": true
   },
   "outputs": [],
   "source": [
    "model = gensim.models.Word2Vec(tokenized_sentences, size=100, window=5, min_count=1, \n",
    "                               sg=1, alpha=0.025, iter=5, batch_words=10000, workers=1)"
   ]
  },
  {
   "cell_type": "markdown",
   "metadata": {},
   "source": [
    "## 7. Investigate Word Embeddings"
   ]
  },
  {
   "cell_type": "markdown",
   "metadata": {
    "collapsed": true
   },
   "source": [
    "### So... what is produced?\n",
    "\n",
    "Gensim uses a neural network to assign a multidimensional vector that captures the semantic relationship of this word to all the other words in the corpus. \n",
    "\n",
    "Here's what these vectors look like:"
   ]
  },
  {
   "cell_type": "code",
   "execution_count": 17,
   "metadata": {},
   "outputs": [
    {
     "data": {
      "text/plain": [
       "array([ 0.02630337, -0.4118605 ,  0.08562625, -0.1375003 ,  0.66029793,\n",
       "       -0.14691536, -0.17499432, -0.14428575, -0.35614252, -0.09241147,\n",
       "       -0.16579422, -0.3064247 ,  0.25478914,  0.09957416,  0.07713142,\n",
       "        0.66116023,  0.48091835, -0.28739554,  0.1923393 ,  0.0664705 ,\n",
       "        0.0789125 ,  0.03939274, -0.00560183, -0.09194696,  0.06053675,\n",
       "       -0.45730793, -0.01118193,  0.18833762,  0.49166498,  0.05386346,\n",
       "        0.2726803 ,  0.07921723, -0.01451887, -0.24555047, -0.20123763,\n",
       "        0.26521876,  0.6185903 , -0.05417174,  0.3340581 , -0.32883957,\n",
       "        0.11782328, -0.00888062, -0.28029642, -0.02472946, -0.18793239,\n",
       "       -0.12548268, -0.48686597, -0.19017354,  0.09775765,  0.24136768,\n",
       "        0.12843388, -0.19898571,  0.54284275,  0.40128458, -0.09639804,\n",
       "        0.22562811, -0.39177763,  0.05040376, -0.28286478,  0.36667022,\n",
       "       -0.34928125,  0.10528117, -0.18604057, -0.30410135,  0.14767899,\n",
       "        0.18381703, -0.01544733,  0.6433656 ,  0.12950982, -0.19302428,\n",
       "        0.14882994,  0.14318787, -0.256792  ,  0.3318471 ,  0.08351922,\n",
       "       -0.15219301,  0.30498394, -0.0146398 , -0.11044027,  0.2505649 ,\n",
       "        0.45976698, -0.5884456 , -0.08300494, -0.45080483, -0.53488946,\n",
       "        0.4082101 , -0.05541012, -0.36019757, -0.539376  ,  0.10843738,\n",
       "        0.11870385, -0.1609945 , -0.13469458, -0.3446286 , -0.28264385,\n",
       "        0.23217995,  0.3281368 ,  0.0474597 ,  0.16400357,  0.469918  ],\n",
       "      dtype=float32)"
      ]
     },
     "execution_count": 17,
     "metadata": {},
     "output_type": "execute_result"
    }
   ],
   "source": [
    "model.wv['bad']"
   ]
  },
  {
   "cell_type": "markdown",
   "metadata": {},
   "source": [
    "### Comparing semantic similarity of words\n",
    "\n",
    "The similarity of one word to another in the corpus can be calculated using the cosine similarity of the vectors assigned to each word. Note that the semantic similarity may not capture all aspects of a word. For instance, antonymns may be used in such similar sentence structure that they have similar word vectors, even though they have opposite meanings. \n",
    "\n",
    "First, let's use Gensim to find the words with the highest cosine similarity to an existing word."
   ]
  },
  {
   "cell_type": "code",
   "execution_count": 18,
   "metadata": {},
   "outputs": [
    {
     "name": "stderr",
     "output_type": "stream",
     "text": [
      "/Users/boushey/anaconda/lib/python3.5/site-packages/gensim/matutils.py:737: FutureWarning: Conversion of the second argument of issubdtype from `int` to `np.signedinteger` is deprecated. In future, it will be treated as `np.int64 == np.dtype(int).type`.\n",
      "  if np.issubdtype(vec.dtype, np.int):\n"
     ]
    },
    {
     "data": {
      "text/plain": [
       "[('good', 0.7536330223083496),\n",
       " ('faith', 0.7181944847106934),\n",
       " ('enormously', 0.6362454891204834),\n",
       " ('flagrantly', 0.6265294551849365),\n",
       " ('smack', 0.6167382001876831),\n",
       " ('blacken', 0.5960441827774048),\n",
       " ('sloppiness', 0.5950930714607239),\n",
       " ('dishonestly', 0.593597412109375),\n",
       " ('unconscionably', 0.5899046063423157),\n",
       " ('shockingly', 0.5835953950881958)]"
      ]
     },
     "execution_count": 18,
     "metadata": {},
     "output_type": "execute_result"
    }
   ],
   "source": [
    "model.wv.most_similar('bad')"
   ]
  },
  {
   "cell_type": "markdown",
   "metadata": {},
   "source": [
    "### Words with different contexts\n",
    "\n",
    "You may notice that many of the words associated with \"bad\" represent different contexts. Bad can mean immoral, insincere, or untrue. We can use gensim to remove certain contexts or emphasize others when searching for words with similar semantic usage."
   ]
  },
  {
   "cell_type": "code",
   "execution_count": 19,
   "metadata": {},
   "outputs": [
    {
     "name": "stderr",
     "output_type": "stream",
     "text": [
      "/Users/boushey/anaconda/lib/python3.5/site-packages/gensim/matutils.py:737: FutureWarning: Conversion of the second argument of issubdtype from `int` to `np.signedinteger` is deprecated. In future, it will be treated as `np.int64 == np.dtype(int).type`.\n",
      "  if np.issubdtype(vec.dtype, np.int):\n"
     ]
    },
    {
     "data": {
      "text/plain": [
       "[('sweetheart', 0.7292665243148804),\n",
       " ('hesitating', 0.7289624214172363),\n",
       " ('ashamed', 0.7267652750015259),\n",
       " ('weird', 0.7225937843322754),\n",
       " ('hurting', 0.720510721206665),\n",
       " ('whopping', 0.7178196310997009),\n",
       " ('disgusted', 0.7171456813812256),\n",
       " ('terrible', 0.7155768871307373),\n",
       " ('bye', 0.7152860164642334),\n",
       " ('arrogant', 0.713897705078125)]"
      ]
     },
     "execution_count": 19,
     "metadata": {},
     "output_type": "execute_result"
    }
   ],
   "source": [
    "model.wv.most_similar(positive=['bad','trouble'])"
   ]
  },
  {
   "cell_type": "code",
   "execution_count": 20,
   "metadata": {},
   "outputs": [
    {
     "name": "stderr",
     "output_type": "stream",
     "text": [
      "/Users/boushey/anaconda/lib/python3.5/site-packages/gensim/matutils.py:737: FutureWarning: Conversion of the second argument of issubdtype from `int` to `np.signedinteger` is deprecated. In future, it will be treated as `np.int64 == np.dtype(int).type`.\n",
      "  if np.issubdtype(vec.dtype, np.int):\n"
     ]
    },
    {
     "data": {
      "text/plain": [
       "[('sweetheart', 0.7292665243148804),\n",
       " ('hesitating', 0.7289624214172363),\n",
       " ('ashamed', 0.7267652750015259),\n",
       " ('weird', 0.7225937843322754),\n",
       " ('hurting', 0.720510721206665),\n",
       " ('whopping', 0.7178196310997009),\n",
       " ('disgusted', 0.7171456813812256),\n",
       " ('terrible', 0.7155768871307373),\n",
       " ('bye', 0.7152860164642334),\n",
       " ('arrogant', 0.713897705078125)]"
      ]
     },
     "execution_count": 20,
     "metadata": {},
     "output_type": "execute_result"
    }
   ],
   "source": [
    "model.wv.most_similar(positive=['bad','trouble'])"
   ]
  },
  {
   "cell_type": "markdown",
   "metadata": {},
   "source": [
    "You can combine positive and negative context as you search for words with similar vectors."
   ]
  },
  {
   "cell_type": "code",
   "execution_count": 21,
   "metadata": {},
   "outputs": [
    {
     "name": "stderr",
     "output_type": "stream",
     "text": [
      "/Users/boushey/anaconda/lib/python3.5/site-packages/gensim/matutils.py:737: FutureWarning: Conversion of the second argument of issubdtype from `int` to `np.signedinteger` is deprecated. In future, it will be treated as `np.int64 == np.dtype(int).type`.\n",
      "  if np.issubdtype(vec.dtype, np.int):\n"
     ]
    },
    {
     "data": {
      "text/plain": [
       "[('reliance', 0.3495256304740906),\n",
       " ('meaningful', 0.34676632285118103),\n",
       " ('arbitrariness', 0.33696866035461426),\n",
       " ('grounded', 0.32441002130508423),\n",
       " ('nonliability', 0.31754371523857117),\n",
       " ('good', 0.3154522776603699),\n",
       " ('unconscionable', 0.3119811415672302),\n",
       " ('enforceable', 0.3081042468547821),\n",
       " ('concomitantly', 0.30487364530563354),\n",
       " ('circumvent', 0.30475321412086487)]"
      ]
     },
     "execution_count": 21,
     "metadata": {},
     "output_type": "execute_result"
    }
   ],
   "source": [
    "model.wv.most_similar(positive=['bad','faith'], negative=['bad','trouble'])"
   ]
  },
  {
   "cell_type": "markdown",
   "metadata": {},
   "source": [
    "### Semantic similarity of two words\n",
    "\n",
    "You can use Gensim to retrieve the semantic similarity of two words. This operation will return the cosine similarity between the terms."
   ]
  },
  {
   "cell_type": "code",
   "execution_count": 22,
   "metadata": {},
   "outputs": [
    {
     "name": "stdout",
     "output_type": "stream",
     "text": [
      "0.7181945\n"
     ]
    },
    {
     "name": "stderr",
     "output_type": "stream",
     "text": [
      "/Users/boushey/anaconda/lib/python3.5/site-packages/gensim/matutils.py:737: FutureWarning: Conversion of the second argument of issubdtype from `int` to `np.signedinteger` is deprecated. In future, it will be treated as `np.int64 == np.dtype(int).type`.\n",
      "  if np.issubdtype(vec.dtype, np.int):\n"
     ]
    }
   ],
   "source": [
    "print(model.wv.similarity('bad', 'faith'))"
   ]
  },
  {
   "cell_type": "markdown",
   "metadata": {},
   "source": [
    "### Calculating the cosine similarity\n",
    "\n",
    "We can get the vectors for each word and calculate the cosine directly"
   ]
  },
  {
   "cell_type": "code",
   "execution_count": 23,
   "metadata": {},
   "outputs": [
    {
     "name": "stdout",
     "output_type": "stream",
     "text": [
      "0.7181945\n"
     ]
    }
   ],
   "source": [
    "unconscionably_vec = model.wv['bad']\n",
    "bad_vec = model.wv['faith']\n",
    "\n",
    "cos_sim = np.dot(bad_vec, unconscionably_vec) / (np.linalg.norm(bad_vec) * np.linalg.norm(unconscionably_vec))\n",
    "\n",
    "print(cos_sim)"
   ]
  },
  {
   "cell_type": "markdown",
   "metadata": {},
   "source": [
    "### Working directly with vectors\n",
    "\n",
    "Gensim has an API to work direcly with vectors rather than terms. "
   ]
  },
  {
   "cell_type": "code",
   "execution_count": 24,
   "metadata": {},
   "outputs": [
    {
     "name": "stderr",
     "output_type": "stream",
     "text": [
      "/Users/boushey/anaconda/lib/python3.5/site-packages/gensim/matutils.py:737: FutureWarning: Conversion of the second argument of issubdtype from `int` to `np.signedinteger` is deprecated. In future, it will be treated as `np.int64 == np.dtype(int).type`.\n",
      "  if np.issubdtype(vec.dtype, np.int):\n"
     ]
    },
    {
     "data": {
      "text/plain": [
       "[('good', 0.7536330223083496),\n",
       " ('faith', 0.7181944847106934),\n",
       " ('enormously', 0.6362454891204834),\n",
       " ('flagrantly', 0.6265294551849365),\n",
       " ('smack', 0.6167382001876831),\n",
       " ('blacken', 0.5960441827774048),\n",
       " ('sloppiness', 0.5950930714607239),\n",
       " ('dishonestly', 0.593597412109375),\n",
       " ('unconscionably', 0.5899046063423157),\n",
       " ('shockingly', 0.5835953950881958)]"
      ]
     },
     "execution_count": 24,
     "metadata": {},
     "output_type": "execute_result"
    }
   ],
   "source": [
    "model.wv.similar_by_vector('bad', 10)"
   ]
  },
  {
   "cell_type": "code",
   "execution_count": 25,
   "metadata": {},
   "outputs": [
    {
     "name": "stderr",
     "output_type": "stream",
     "text": [
      "/Users/boushey/anaconda/lib/python3.5/site-packages/gensim/matutils.py:737: FutureWarning: Conversion of the second argument of issubdtype from `int` to `np.signedinteger` is deprecated. In future, it will be treated as `np.int64 == np.dtype(int).type`.\n",
      "  if np.issubdtype(vec.dtype, np.int):\n"
     ]
    },
    {
     "data": {
      "text/plain": [
       "[('faith', 1.0),\n",
       " ('good', 0.7872675061225891),\n",
       " ('bad', 0.7181944847106934),\n",
       " ('collusion', 0.6163514852523804),\n",
       " ('honesty', 0.6055381298065186),\n",
       " ('unconscionably', 0.5943100452423096),\n",
       " ('underhanded', 0.5919125080108643),\n",
       " ('dealing', 0.5914856195449829),\n",
       " ('debar', 0.5736172795295715),\n",
       " ('stickler', 0.5702353715896606)]"
      ]
     },
     "execution_count": 25,
     "metadata": {},
     "output_type": "execute_result"
    }
   ],
   "source": [
    "model.wv.similar_by_vector(bad_vec, 10)"
   ]
  },
  {
   "cell_type": "code",
   "execution_count": 26,
   "metadata": {},
   "outputs": [
    {
     "name": "stdout",
     "output_type": "stream",
     "text": [
      "100\n",
      "<class 'numpy.ndarray'>\n",
      "[ 0.3125909  -0.25916746  0.42982534  0.00759253  0.22472553 -0.1116685\n",
      " -0.499409   -0.14502385  0.31376532 -0.558737   -0.16012874 -0.24049425\n",
      " -0.02922751 -0.01019854  0.2991584   1.1111869   0.41850725 -0.44011232\n",
      "  0.2833471  -0.16538686  0.23968406 -0.3336344   0.11134526  0.16074066\n",
      "  0.22216435 -0.48114005  0.21202391  0.43000627  0.1431332  -0.16946326\n",
      "  0.24591845 -0.00581951  0.06137893 -0.2957534  -0.08614238  0.14379503\n",
      "  0.9547181   0.06199986  0.04370441 -0.6325856  -0.23411742  0.08458874\n",
      " -0.3635633   0.18086438  0.09803306 -0.01891509 -0.04808301 -0.20608087\n",
      "  0.42551017  0.5094488   0.43612704  0.4280786   0.7986465   0.5253331\n",
      " -0.12079251  0.26303303 -0.44097745  0.22092983 -0.13051896  0.50240076\n",
      " -0.15014496 -0.08660117  0.09472734 -0.4518873  -0.05177835 -0.12133678\n",
      " -0.05596195  0.48072398  0.3366855   0.1671469  -0.08542033 -0.05680215\n",
      " -0.59672934 -0.14464034 -0.17245942 -0.22224787  0.52603    -0.0220557\n",
      " -0.25202847  0.28751725  0.34458748 -0.81306344  0.17044085 -0.49716258\n",
      " -0.40473118  0.48332047  0.13587703  0.04282788 -0.5406643  -0.19404015\n",
      "  0.21202509 -0.26583114  0.48959988 -0.13759543 -0.49249235  0.42570788\n",
      "  0.8689578  -0.13835864  0.568799    0.2697483 ]\n"
     ]
    }
   ],
   "source": [
    "print(len(bad_vec))\n",
    "print(type(bad_vec))\n",
    "print(bad_vec)"
   ]
  },
  {
   "cell_type": "markdown",
   "metadata": {},
   "source": [
    "You can create vectors yourself and find terms with semantic similarity"
   ]
  },
  {
   "cell_type": "code",
   "execution_count": 27,
   "metadata": {},
   "outputs": [
    {
     "name": "stderr",
     "output_type": "stream",
     "text": [
      "/Users/boushey/anaconda/lib/python3.5/site-packages/gensim/matutils.py:737: FutureWarning: Conversion of the second argument of issubdtype from `int` to `np.signedinteger` is deprecated. In future, it will be treated as `np.int64 == np.dtype(int).type`.\n",
      "  if np.issubdtype(vec.dtype, np.int):\n"
     ]
    },
    {
     "data": {
      "text/plain": [
       "[('vigorous', 0.1939081847667694),\n",
       " ('acquiescence', 0.1921045035123825),\n",
       " ('impediment', 0.18577346205711365),\n",
       " ('ignorance', 0.1784195899963379),\n",
       " ('defensive', 0.17352518439292908),\n",
       " ('offensive', 0.1715220808982849),\n",
       " ('excusable', 0.16435687243938446),\n",
       " ('usefulness', 0.16277721524238586),\n",
       " ('tantamount', 0.15717345476150513),\n",
       " ('strategic', 0.15707506239414215)]"
      ]
     },
     "execution_count": 27,
     "metadata": {},
     "output_type": "execute_result"
    }
   ],
   "source": [
    "vec = np.random.uniform(-1, 1, 100)\n",
    "model.wv.similar_by_vector(vec, 10)"
   ]
  },
  {
   "cell_type": "markdown",
   "metadata": {},
   "source": [
    "## 7. Plotting And Visualization\n",
    "\n",
    "For this exercise, we'll visualize the degree of positive and netagive semantic association of virtues and vices with \"good\" and \"bad\".\n",
    "\n",
    "I left a few of the virtues and vices out for this exercise - you may need to increase the number of records you process to include all these words, and you may need to increase it more to get good or interesting associations. For now, I'd recommend you keep it small and get it running, you can expand once you have the code working."
   ]
  },
  {
   "cell_type": "code",
   "execution_count": 28,
   "metadata": {
    "collapsed": true
   },
   "outputs": [],
   "source": [
    "virtues_vices = ['courage', 'charity', 'honor', 'truth', 'honesty', 'greed', 'cruelty', 'pride']"
   ]
  },
  {
   "cell_type": "code",
   "execution_count": 29,
   "metadata": {},
   "outputs": [
    {
     "name": "stderr",
     "output_type": "stream",
     "text": [
      "/Users/boushey/anaconda/lib/python3.5/site-packages/gensim/matutils.py:737: FutureWarning: Conversion of the second argument of issubdtype from `int` to `np.signedinteger` is deprecated. In future, it will be treated as `np.int64 == np.dtype(int).type`.\n",
      "  if np.issubdtype(vec.dtype, np.int):\n"
     ]
    }
   ],
   "source": [
    "bad_score = [model.wv.similarity(['bad'], word) for word in virtues_vices]\n",
    "good_score = [model.wv.similarity(['good'], word) for word in virtues_vices]"
   ]
  },
  {
   "cell_type": "code",
   "execution_count": 30,
   "metadata": {
    "collapsed": true
   },
   "outputs": [],
   "source": [
    "import matplotlib\n",
    "import matplotlib.pyplot as plt\n",
    "%matplotlib inline"
   ]
  },
  {
   "cell_type": "code",
   "execution_count": 31,
   "metadata": {},
   "outputs": [
    {
     "data": {
      "image/png": "[encoded data removed]",
      "text/plain": [
       "<Figure size 1440x1440 with 1 Axes>"
      ]
     },
     "metadata": {},
     "output_type": "display_data"
    }
   ],
   "source": [
    "_, ax = plt.subplots(figsize=(20,20))\n",
    "ax.scatter(bad_score, good_score, alpha=1, color='b')\n",
    "for i in range(len(virtues_vices)):\n",
    "    ax.annotate(virtues_vices[i], (bad_score[i], good_score[i])).set_fontsize(16)\n",
    "ax.set_xlim(.25, 1.1)\n",
    "ax.set_ylim(.25, 1.1)\n",
    "ax.yaxis.label.set_fontsize(16)\n",
    "ax.xaxis.label.set_fontsize(16)\n",
    "plt.xlabel('bad score')\n",
    "plt.ylabel('good score')\n",
    "for item in (ax.get_xticklabels() + ax.get_yticklabels()):\n",
    "    item.set_fontsize(16)\n",
    "plt.plot([0, 1], [0, 1], linestyle='--');"
   ]
  }
 ],
 "metadata": {
  "kernelspec": {
   "display_name": "Python 3",
   "language": "python",
   "name": "python3"
  },
  "language_info": {
   "codemirror_mode": {
    "name": "ipython",
    "version": 3
   },
   "file_extension": ".py",
   "mimetype": "text/x-python",
   "name": "python",
   "nbconvert_exporter": "python",
   "pygments_lexer": "ipython3",
   "version": "3.5.4"
  }
 },
 "nbformat": 4,
 "nbformat_minor": 2
}
